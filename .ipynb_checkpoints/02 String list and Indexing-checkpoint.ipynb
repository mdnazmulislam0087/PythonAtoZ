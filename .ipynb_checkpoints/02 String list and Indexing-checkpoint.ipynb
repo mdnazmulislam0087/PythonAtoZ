{
 "cells": [
  {
   "cell_type": "code",
   "execution_count": 26,
   "id": "f52c48e0",
   "metadata": {},
   "outputs": [],
   "source": [
    "s= \"Nazmul\""
   ]
  },
  {
   "cell_type": "code",
   "execution_count": 27,
   "id": "9e6628e0",
   "metadata": {},
   "outputs": [
    {
     "data": {
      "text/plain": [
       "str"
      ]
     },
     "execution_count": 27,
     "metadata": {},
     "output_type": "execute_result"
    }
   ],
   "source": [
    "type(s)"
   ]
  },
  {
   "cell_type": "markdown",
   "id": "ac0c1dab",
   "metadata": {},
   "source": [
    "### Indexing\n",
    "\n",
    "starts with 0  -- forward direction\n"
   ]
  },
  {
   "cell_type": "code",
   "execution_count": 28,
   "id": "9a274e3e",
   "metadata": {},
   "outputs": [
    {
     "data": {
      "text/plain": [
       "'N'"
      ]
     },
     "execution_count": 28,
     "metadata": {},
     "output_type": "execute_result"
    }
   ],
   "source": [
    "s[0]"
   ]
  },
  {
   "cell_type": "code",
   "execution_count": 29,
   "id": "e6575b9b",
   "metadata": {},
   "outputs": [
    {
     "data": {
      "text/plain": [
       "'a'"
      ]
     },
     "execution_count": 29,
     "metadata": {},
     "output_type": "execute_result"
    }
   ],
   "source": [
    "s[1]"
   ]
  },
  {
   "cell_type": "code",
   "execution_count": 30,
   "id": "89c54e48",
   "metadata": {},
   "outputs": [
    {
     "data": {
      "text/plain": [
       "'z'"
      ]
     },
     "execution_count": 30,
     "metadata": {},
     "output_type": "execute_result"
    }
   ],
   "source": [
    "s[2]"
   ]
  },
  {
   "cell_type": "code",
   "execution_count": 31,
   "id": "f6b0a95a",
   "metadata": {},
   "outputs": [
    {
     "data": {
      "text/plain": [
       "'m'"
      ]
     },
     "execution_count": 31,
     "metadata": {},
     "output_type": "execute_result"
    }
   ],
   "source": [
    "s[3]"
   ]
  },
  {
   "cell_type": "markdown",
   "id": "ed3cc51f",
   "metadata": {},
   "source": [
    "Indexing starts from -1 at back ward direction"
   ]
  },
  {
   "cell_type": "code",
   "execution_count": 32,
   "id": "508da6bf",
   "metadata": {},
   "outputs": [
    {
     "data": {
      "text/plain": [
       "'l'"
      ]
     },
     "execution_count": 32,
     "metadata": {},
     "output_type": "execute_result"
    }
   ],
   "source": [
    "s[-1]"
   ]
  },
  {
   "cell_type": "code",
   "execution_count": 33,
   "id": "19012850",
   "metadata": {},
   "outputs": [
    {
     "data": {
      "text/plain": [
       "'u'"
      ]
     },
     "execution_count": 33,
     "metadata": {},
     "output_type": "execute_result"
    }
   ],
   "source": [
    "s[-2]"
   ]
  },
  {
   "cell_type": "code",
   "execution_count": 34,
   "id": "8eff908e",
   "metadata": {},
   "outputs": [
    {
     "data": {
      "text/plain": [
       "'m'"
      ]
     },
     "execution_count": 34,
     "metadata": {},
     "output_type": "execute_result"
    }
   ],
   "source": [
    "s[-3]"
   ]
  },
  {
   "cell_type": "code",
   "execution_count": 35,
   "id": "fb407d36",
   "metadata": {},
   "outputs": [
    {
     "data": {
      "text/plain": [
       "'z'"
      ]
     },
     "execution_count": 35,
     "metadata": {},
     "output_type": "execute_result"
    }
   ],
   "source": [
    "s[-4]"
   ]
  },
  {
   "cell_type": "code",
   "execution_count": 36,
   "id": "8d7655d5",
   "metadata": {},
   "outputs": [
    {
     "data": {
      "text/plain": [
       "'a'"
      ]
     },
     "execution_count": 36,
     "metadata": {},
     "output_type": "execute_result"
    }
   ],
   "source": [
    "s[-5]"
   ]
  },
  {
   "cell_type": "code",
   "execution_count": 37,
   "id": "81e94f5b",
   "metadata": {},
   "outputs": [
    {
     "data": {
      "text/plain": [
       "'N'"
      ]
     },
     "execution_count": 37,
     "metadata": {},
     "output_type": "execute_result"
    }
   ],
   "source": [
    "s[-6]"
   ]
  },
  {
   "cell_type": "code",
   "execution_count": 38,
   "id": "32c19ea7",
   "metadata": {},
   "outputs": [
    {
     "ename": "IndexError",
     "evalue": "string index out of range",
     "output_type": "error",
     "traceback": [
      "\u001b[1;31m---------------------------------------------------------------------------\u001b[0m",
      "\u001b[1;31mIndexError\u001b[0m                                Traceback (most recent call last)",
      "\u001b[1;32m<ipython-input-38-f93c2f8ec6cd>\u001b[0m in \u001b[0;36m<module>\u001b[1;34m\u001b[0m\n\u001b[1;32m----> 1\u001b[1;33m \u001b[0ms\u001b[0m\u001b[1;33m[\u001b[0m\u001b[1;33m-\u001b[0m\u001b[1;36m7\u001b[0m\u001b[1;33m]\u001b[0m\u001b[1;33m\u001b[0m\u001b[1;33m\u001b[0m\u001b[0m\n\u001b[0m",
      "\u001b[1;31mIndexError\u001b[0m: string index out of range"
     ]
    }
   ],
   "source": [
    "s[-7]"
   ]
  },
  {
   "cell_type": "code",
   "execution_count": 39,
   "id": "69a3eef1",
   "metadata": {},
   "outputs": [],
   "source": [
    "a= \"My name is Nazmul\""
   ]
  },
  {
   "cell_type": "code",
   "execution_count": 40,
   "id": "ae417024",
   "metadata": {},
   "outputs": [
    {
     "data": {
      "text/plain": [
       "'l'"
      ]
     },
     "execution_count": 40,
     "metadata": {},
     "output_type": "execute_result"
    }
   ],
   "source": [
    "a[-1]"
   ]
  },
  {
   "cell_type": "code",
   "execution_count": 41,
   "id": "6f540e3d",
   "metadata": {},
   "outputs": [
    {
     "data": {
      "text/plain": [
       "'M'"
      ]
     },
     "execution_count": 41,
     "metadata": {},
     "output_type": "execute_result"
    }
   ],
   "source": [
    "a[0]"
   ]
  },
  {
   "cell_type": "markdown",
   "id": "be5fb544",
   "metadata": {},
   "source": [
    "In summary, Forward direction starts with 0 and backward direction starts with -1"
   ]
  },
  {
   "cell_type": "code",
   "execution_count": 42,
   "id": "1fda28df",
   "metadata": {},
   "outputs": [
    {
     "ename": "IndexError",
     "evalue": "string index out of range",
     "output_type": "error",
     "traceback": [
      "\u001b[1;31m---------------------------------------------------------------------------\u001b[0m",
      "\u001b[1;31mIndexError\u001b[0m                                Traceback (most recent call last)",
      "\u001b[1;32m<ipython-input-42-cd7724b6c85f>\u001b[0m in \u001b[0;36m<module>\u001b[1;34m\u001b[0m\n\u001b[1;32m----> 1\u001b[1;33m \u001b[0ma\u001b[0m\u001b[1;33m[\u001b[0m\u001b[1;36m100\u001b[0m\u001b[1;33m]\u001b[0m\u001b[1;33m\u001b[0m\u001b[1;33m\u001b[0m\u001b[0m\n\u001b[0m",
      "\u001b[1;31mIndexError\u001b[0m: string index out of range"
     ]
    }
   ],
   "source": [
    "a[100]"
   ]
  },
  {
   "cell_type": "code",
   "execution_count": 43,
   "id": "002744c3",
   "metadata": {},
   "outputs": [
    {
     "data": {
      "text/plain": [
       "'My name is Nazmul'"
      ]
     },
     "execution_count": 43,
     "metadata": {},
     "output_type": "execute_result"
    }
   ],
   "source": [
    "a"
   ]
  },
  {
   "cell_type": "code",
   "execution_count": 44,
   "id": "12ec210f",
   "metadata": {},
   "outputs": [
    {
     "data": {
      "text/plain": [
       "'My name is'"
      ]
     },
     "execution_count": 44,
     "metadata": {},
     "output_type": "execute_result"
    }
   ],
   "source": [
    "a[0:10]  "
   ]
  },
  {
   "cell_type": "markdown",
   "id": "9d807ff8",
   "metadata": {},
   "source": [
    "go from 0 and go to 10 but excluding 10; it is giving upto 9th location and space is also counted"
   ]
  },
  {
   "cell_type": "code",
   "execution_count": 45,
   "id": "d2219d0e",
   "metadata": {},
   "outputs": [],
   "source": [
    "b=\"Magnet\""
   ]
  },
  {
   "cell_type": "code",
   "execution_count": 46,
   "id": "4a4c8218",
   "metadata": {},
   "outputs": [
    {
     "data": {
      "text/plain": [
       "'Mag'"
      ]
     },
     "execution_count": 46,
     "metadata": {},
     "output_type": "execute_result"
    }
   ],
   "source": [
    "b[0:3]  #0,1,2 location only, excluding upper bound(3)"
   ]
  },
  {
   "cell_type": "code",
   "execution_count": 47,
   "id": "973f9b50",
   "metadata": {},
   "outputs": [
    {
     "data": {
      "text/plain": [
       "'Magnet'"
      ]
     },
     "execution_count": 47,
     "metadata": {},
     "output_type": "execute_result"
    }
   ],
   "source": [
    "b[0:300]"
   ]
  },
  {
   "cell_type": "code",
   "execution_count": 48,
   "id": "b61fad62",
   "metadata": {},
   "outputs": [
    {
     "data": {
      "text/plain": [
       "'Magnet'"
      ]
     },
     "execution_count": 48,
     "metadata": {},
     "output_type": "execute_result"
    }
   ],
   "source": [
    "b[0:]"
   ]
  },
  {
   "cell_type": "code",
   "execution_count": 49,
   "id": "2cd8040f",
   "metadata": {},
   "outputs": [
    {
     "ename": "IndexError",
     "evalue": "string index out of range",
     "output_type": "error",
     "traceback": [
      "\u001b[1;31m---------------------------------------------------------------------------\u001b[0m",
      "\u001b[1;31mIndexError\u001b[0m                                Traceback (most recent call last)",
      "\u001b[1;32m<ipython-input-49-d0a1ae91cdec>\u001b[0m in \u001b[0;36m<module>\u001b[1;34m\u001b[0m\n\u001b[1;32m----> 1\u001b[1;33m \u001b[0mb\u001b[0m\u001b[1;33m[\u001b[0m\u001b[1;36m100\u001b[0m\u001b[1;33m]\u001b[0m\u001b[1;33m\u001b[0m\u001b[1;33m\u001b[0m\u001b[0m\n\u001b[0m",
      "\u001b[1;31mIndexError\u001b[0m: string index out of range"
     ]
    }
   ],
   "source": [
    "b[100]"
   ]
  },
  {
   "cell_type": "code",
   "execution_count": 50,
   "id": "2c30f67f",
   "metadata": {},
   "outputs": [
    {
     "ename": "IndexError",
     "evalue": "string index out of range",
     "output_type": "error",
     "traceback": [
      "\u001b[1;31m---------------------------------------------------------------------------\u001b[0m",
      "\u001b[1;31mIndexError\u001b[0m                                Traceback (most recent call last)",
      "\u001b[1;32m<ipython-input-50-b20bba380709>\u001b[0m in \u001b[0;36m<module>\u001b[1;34m\u001b[0m\n\u001b[1;32m----> 1\u001b[1;33m \u001b[0mb\u001b[0m\u001b[1;33m[\u001b[0m\u001b[1;33m-\u001b[0m\u001b[1;36m100\u001b[0m\u001b[1;33m]\u001b[0m\u001b[1;33m\u001b[0m\u001b[1;33m\u001b[0m\u001b[0m\n\u001b[0m",
      "\u001b[1;31mIndexError\u001b[0m: string index out of range"
     ]
    }
   ],
   "source": [
    "b[-100]"
   ]
  },
  {
   "cell_type": "code",
   "execution_count": 51,
   "id": "7b0a34a5",
   "metadata": {},
   "outputs": [
    {
     "data": {
      "text/plain": [
       "'Magnet'"
      ]
     },
     "execution_count": 51,
     "metadata": {},
     "output_type": "execute_result"
    }
   ],
   "source": [
    "b"
   ]
  },
  {
   "cell_type": "code",
   "execution_count": 52,
   "id": "c14e9fd7",
   "metadata": {},
   "outputs": [
    {
     "data": {
      "text/plain": [
       "'Magn'"
      ]
     },
     "execution_count": 52,
     "metadata": {},
     "output_type": "execute_result"
    }
   ],
   "source": [
    "b[0:4]"
   ]
  },
  {
   "cell_type": "code",
   "execution_count": 53,
   "id": "b7a2da01",
   "metadata": {},
   "outputs": [
    {
     "data": {
      "text/plain": [
       "''"
      ]
     },
     "execution_count": 53,
     "metadata": {},
     "output_type": "execute_result"
    }
   ],
   "source": [
    "b[-1:-4] # why no data bb"
   ]
  },
  {
   "cell_type": "code",
   "execution_count": 54,
   "id": "f134a83b",
   "metadata": {},
   "outputs": [],
   "source": [
    "y=\"kumar\""
   ]
  },
  {
   "cell_type": "code",
   "execution_count": 55,
   "id": "235998e5",
   "metadata": {},
   "outputs": [
    {
     "data": {
      "text/plain": [
       "'kum'"
      ]
     },
     "execution_count": 55,
     "metadata": {},
     "output_type": "execute_result"
    }
   ],
   "source": [
    "y[0:3]"
   ]
  },
  {
   "cell_type": "code",
   "execution_count": 56,
   "id": "9cdd249b",
   "metadata": {},
   "outputs": [
    {
     "data": {
      "text/plain": [
       "'kumar'"
      ]
     },
     "execution_count": 56,
     "metadata": {},
     "output_type": "execute_result"
    }
   ],
   "source": [
    "y[0:300]"
   ]
  },
  {
   "cell_type": "code",
   "execution_count": 57,
   "id": "2454dd60",
   "metadata": {},
   "outputs": [
    {
     "data": {
      "text/plain": [
       "'kumar'"
      ]
     },
     "execution_count": 57,
     "metadata": {},
     "output_type": "execute_result"
    }
   ],
   "source": [
    "y[0:300:1]  #[start(lower bound):end(upper bound):step/jump] by default jump =1"
   ]
  },
  {
   "cell_type": "code",
   "execution_count": 58,
   "id": "838ffcb4",
   "metadata": {},
   "outputs": [
    {
     "data": {
      "text/plain": [
       "'kmr'"
      ]
     },
     "execution_count": 58,
     "metadata": {},
     "output_type": "execute_result"
    }
   ],
   "source": [
    "y[0:300:2]"
   ]
  },
  {
   "cell_type": "code",
   "execution_count": 59,
   "id": "e2362853",
   "metadata": {},
   "outputs": [
    {
     "data": {
      "text/plain": [
       "'ka'"
      ]
     },
     "execution_count": 59,
     "metadata": {},
     "output_type": "execute_result"
    }
   ],
   "source": [
    "y[0:300:3]"
   ]
  },
  {
   "cell_type": "code",
   "execution_count": 60,
   "id": "c9a65dac",
   "metadata": {},
   "outputs": [
    {
     "data": {
      "text/plain": [
       "''"
      ]
     },
     "execution_count": 60,
     "metadata": {},
     "output_type": "execute_result"
    }
   ],
   "source": [
    "y[0:100:-1] # jump -1 thats why empty came"
   ]
  },
  {
   "cell_type": "code",
   "execution_count": 61,
   "id": "f53e5838",
   "metadata": {},
   "outputs": [
    {
     "data": {
      "text/plain": [
       "'kumar'"
      ]
     },
     "execution_count": 61,
     "metadata": {},
     "output_type": "execute_result"
    }
   ],
   "source": [
    "y"
   ]
  },
  {
   "cell_type": "code",
   "execution_count": 62,
   "id": "0fd910c5",
   "metadata": {},
   "outputs": [
    {
     "data": {
      "text/plain": [
       "''"
      ]
     },
     "execution_count": 62,
     "metadata": {},
     "output_type": "execute_result"
    }
   ],
   "source": [
    "y[-1:-300]  # because jump is 1 hence empty"
   ]
  },
  {
   "cell_type": "code",
   "execution_count": 63,
   "id": "cad6162f",
   "metadata": {},
   "outputs": [
    {
     "data": {
      "text/plain": [
       "'ramuk'"
      ]
     },
     "execution_count": 63,
     "metadata": {},
     "output_type": "execute_result"
    }
   ],
   "source": [
    "y[-1:-300:-1]"
   ]
  },
  {
   "cell_type": "code",
   "execution_count": 64,
   "id": "3d638a6f",
   "metadata": {},
   "outputs": [
    {
     "data": {
      "text/plain": [
       "'kumar'"
      ]
     },
     "execution_count": 64,
     "metadata": {},
     "output_type": "execute_result"
    }
   ],
   "source": [
    "y"
   ]
  },
  {
   "cell_type": "code",
   "execution_count": 65,
   "id": "86f4572f",
   "metadata": {},
   "outputs": [
    {
     "data": {
      "text/plain": [
       "'kumar'"
      ]
     },
     "execution_count": 65,
     "metadata": {},
     "output_type": "execute_result"
    }
   ],
   "source": [
    "y[::] # default starting 0, end is len and step size 1"
   ]
  },
  {
   "cell_type": "code",
   "execution_count": 66,
   "id": "95de8e75",
   "metadata": {},
   "outputs": [
    {
     "data": {
      "text/plain": [
       "'kumar'"
      ]
     },
     "execution_count": 66,
     "metadata": {},
     "output_type": "execute_result"
    }
   ],
   "source": [
    "y[:8] # starting point by default as 0"
   ]
  },
  {
   "cell_type": "code",
   "execution_count": 67,
   "id": "2287f658",
   "metadata": {},
   "outputs": [
    {
     "data": {
      "text/plain": [
       "'kumar'"
      ]
     },
     "execution_count": 67,
     "metadata": {},
     "output_type": "execute_result"
    }
   ],
   "source": [
    "y"
   ]
  },
  {
   "cell_type": "code",
   "execution_count": 68,
   "id": "9daffdbe",
   "metadata": {},
   "outputs": [
    {
     "data": {
      "text/plain": [
       "5"
      ]
     },
     "execution_count": 68,
     "metadata": {},
     "output_type": "execute_result"
    }
   ],
   "source": [
    "len(y)"
   ]
  },
  {
   "cell_type": "code",
   "execution_count": 69,
   "id": "800efd14",
   "metadata": {},
   "outputs": [
    {
     "data": {
      "text/plain": [
       "'ar'"
      ]
     },
     "execution_count": 69,
     "metadata": {},
     "output_type": "execute_result"
    }
   ],
   "source": [
    "y[-2:]  # starting from -2 ; upper bound is len(y) an step size 1"
   ]
  },
  {
   "cell_type": "code",
   "execution_count": 70,
   "id": "7641c477",
   "metadata": {},
   "outputs": [
    {
     "data": {
      "text/plain": [
       "'kumar'"
      ]
     },
     "execution_count": 70,
     "metadata": {},
     "output_type": "execute_result"
    }
   ],
   "source": [
    "y"
   ]
  },
  {
   "cell_type": "code",
   "execution_count": 71,
   "id": "c929e0f6",
   "metadata": {},
   "outputs": [
    {
     "data": {
      "text/plain": [
       "'ramuk'"
      ]
     },
     "execution_count": 71,
     "metadata": {},
     "output_type": "execute_result"
    }
   ],
   "source": [
    "y[::-1] #special case"
   ]
  },
  {
   "cell_type": "markdown",
   "id": "2d68af8f",
   "metadata": {},
   "source": [
    "above we have not defined starting point nor end point;\n",
    "- we just defined direction\n",
    "- python will automarically initiate starting point as per the step size\n",
    "- it will initiate startig point as -1 and end point as -len(y) and will fetch in reverse order"
   ]
  },
  {
   "cell_type": "code",
   "execution_count": 72,
   "id": "482164dc",
   "metadata": {},
   "outputs": [
    {
     "data": {
      "text/plain": [
       "'ramuk'"
      ]
     },
     "execution_count": 72,
     "metadata": {},
     "output_type": "execute_result"
    }
   ],
   "source": [
    "y[-1::-1] # automatic python smart"
   ]
  },
  {
   "cell_type": "code",
   "execution_count": 73,
   "id": "cc112ced",
   "metadata": {},
   "outputs": [],
   "source": [
    "a= \"I am working for the people\""
   ]
  },
  {
   "cell_type": "code",
   "execution_count": 74,
   "id": "3dc0fb71",
   "metadata": {},
   "outputs": [
    {
     "data": {
      "text/plain": [
       "'elpoep eht rof gnikrow ma I'"
      ]
     },
     "execution_count": 74,
     "metadata": {},
     "output_type": "execute_result"
    }
   ],
   "source": [
    "a[::-1]"
   ]
  },
  {
   "cell_type": "code",
   "execution_count": 75,
   "id": "86f5f32e",
   "metadata": {},
   "outputs": [
    {
     "data": {
      "text/plain": [
       "''"
      ]
     },
     "execution_count": 75,
     "metadata": {},
     "output_type": "execute_result"
    }
   ],
   "source": [
    "a[-5:5]"
   ]
  },
  {
   "cell_type": "code",
   "execution_count": 76,
   "id": "61e910d0",
   "metadata": {},
   "outputs": [
    {
     "data": {
      "text/plain": [
       "'ep eht rof gnikro'"
      ]
     },
     "execution_count": 76,
     "metadata": {},
     "output_type": "execute_result"
    }
   ],
   "source": [
    "a[-5:5:-1]"
   ]
  },
  {
   "cell_type": "code",
   "execution_count": 77,
   "id": "d4643022",
   "metadata": {},
   "outputs": [
    {
     "data": {
      "text/plain": [
       "'I k   p'"
      ]
     },
     "execution_count": 77,
     "metadata": {},
     "output_type": "execute_result"
    }
   ],
   "source": [
    "a[0:300:4]"
   ]
  },
  {
   "cell_type": "code",
   "execution_count": 78,
   "id": "89da37f0",
   "metadata": {},
   "outputs": [],
   "source": [
    "# these are the basic string slicing or traversing opertaion"
   ]
  },
  {
   "cell_type": "code",
   "execution_count": 79,
   "id": "9731bf3a",
   "metadata": {},
   "outputs": [
    {
     "data": {
      "text/plain": [
       "'nazmulnazmulnazmul'"
      ]
     },
     "execution_count": 79,
     "metadata": {},
     "output_type": "execute_result"
    }
   ],
   "source": [
    "\"nazmul\"*3  # repeat string by 3 times"
   ]
  },
  {
   "cell_type": "code",
   "execution_count": 80,
   "id": "e1515c79",
   "metadata": {},
   "outputs": [
    {
     "data": {
      "text/plain": [
       "'nazmulislam'"
      ]
     },
     "execution_count": 80,
     "metadata": {},
     "output_type": "execute_result"
    }
   ],
   "source": [
    "\"nazmul\" + \"islam\" # concatanation operation"
   ]
  },
  {
   "cell_type": "markdown",
   "id": "375f7a88",
   "metadata": {},
   "source": [
    "If i have two paraagraphs and some one asked me to concatanate; we can use +\n",
    "\n",
    "If I have one paragraph and some one is asking to repear it 100 times, we can use *"
   ]
  },
  {
   "cell_type": "code",
   "execution_count": 81,
   "id": "e7294fab",
   "metadata": {},
   "outputs": [
    {
     "data": {
      "text/plain": [
       "'I am working for the people'"
      ]
     },
     "execution_count": 81,
     "metadata": {},
     "output_type": "execute_result"
    }
   ],
   "source": [
    "a"
   ]
  },
  {
   "cell_type": "code",
   "execution_count": 82,
   "id": "40354170",
   "metadata": {},
   "outputs": [
    {
     "data": {
      "text/plain": [
       "27"
      ]
     },
     "execution_count": 82,
     "metadata": {},
     "output_type": "execute_result"
    }
   ],
   "source": [
    "len(a)"
   ]
  },
  {
   "cell_type": "code",
   "execution_count": 83,
   "id": "f1c2ec1b",
   "metadata": {},
   "outputs": [],
   "source": [
    "a = \"i am working for the people\""
   ]
  },
  {
   "cell_type": "code",
   "execution_count": 84,
   "id": "0e959fe5",
   "metadata": {},
   "outputs": [],
   "source": [
    "# find the index of m"
   ]
  },
  {
   "cell_type": "code",
   "execution_count": 85,
   "id": "803bacd5",
   "metadata": {},
   "outputs": [
    {
     "data": {
      "text/plain": [
       "3"
      ]
     },
     "execution_count": 85,
     "metadata": {},
     "output_type": "execute_result"
    }
   ],
   "source": [
    "a.find('m')"
   ]
  },
  {
   "cell_type": "code",
   "execution_count": 86,
   "id": "f3437583",
   "metadata": {},
   "outputs": [
    {
     "data": {
      "text/plain": [
       "2"
      ]
     },
     "execution_count": 86,
     "metadata": {},
     "output_type": "execute_result"
    }
   ],
   "source": [
    "a.find('a')"
   ]
  },
  {
   "cell_type": "code",
   "execution_count": 87,
   "id": "d1d5be72",
   "metadata": {},
   "outputs": [
    {
     "data": {
      "text/plain": [
       "0"
      ]
     },
     "execution_count": 87,
     "metadata": {},
     "output_type": "execute_result"
    }
   ],
   "source": [
    "a.find('i') # gives only first occurances shift+tab gives clue"
   ]
  },
  {
   "cell_type": "code",
   "execution_count": 88,
   "id": "7f4ff947",
   "metadata": {},
   "outputs": [
    {
     "data": {
      "text/plain": [
       "-1"
      ]
     },
     "execution_count": 88,
     "metadata": {},
     "output_type": "execute_result"
    }
   ],
   "source": [
    "a.find(\"ia\") # uf nothing founds it returns -1--means not found"
   ]
  },
  {
   "cell_type": "code",
   "execution_count": 89,
   "id": "5a9c21a3",
   "metadata": {},
   "outputs": [
    {
     "data": {
      "text/plain": [
       "21"
      ]
     },
     "execution_count": 89,
     "metadata": {},
     "output_type": "execute_result"
    }
   ],
   "source": [
    "a.find(\"pe\")"
   ]
  },
  {
   "cell_type": "code",
   "execution_count": 90,
   "id": "3b1a1380",
   "metadata": {},
   "outputs": [
    {
     "data": {
      "text/plain": [
       "2"
      ]
     },
     "execution_count": 90,
     "metadata": {},
     "output_type": "execute_result"
    }
   ],
   "source": [
    "a.count(\"i\")  # number of occurances"
   ]
  },
  {
   "cell_type": "code",
   "execution_count": 91,
   "id": "8b21ec07",
   "metadata": {},
   "outputs": [
    {
     "data": {
      "text/plain": [
       "0"
      ]
     },
     "execution_count": 91,
     "metadata": {},
     "output_type": "execute_result"
    }
   ],
   "source": [
    "a.count(\"x\") # 0 occurances"
   ]
  },
  {
   "cell_type": "code",
   "execution_count": 92,
   "id": "2d4984f5",
   "metadata": {},
   "outputs": [
    {
     "data": {
      "text/plain": [
       "'i am working for the people'"
      ]
     },
     "execution_count": 92,
     "metadata": {},
     "output_type": "execute_result"
    }
   ],
   "source": [
    "a"
   ]
  },
  {
   "cell_type": "code",
   "execution_count": 93,
   "id": "7ebab9a0",
   "metadata": {},
   "outputs": [
    {
     "data": {
      "text/plain": [
       "['i', 'am', 'working', 'for', 'the', 'people']"
      ]
     },
     "execution_count": 93,
     "metadata": {},
     "output_type": "execute_result"
    }
   ],
   "source": [
    "a.split() # it gives list"
   ]
  },
  {
   "cell_type": "code",
   "execution_count": 94,
   "id": "2d2ae3ca",
   "metadata": {},
   "outputs": [
    {
     "data": {
      "text/plain": [
       "list"
      ]
     },
     "execution_count": 94,
     "metadata": {},
     "output_type": "execute_result"
    }
   ],
   "source": [
    "type(a.split())"
   ]
  },
  {
   "cell_type": "code",
   "execution_count": 95,
   "id": "00f560f8",
   "metadata": {},
   "outputs": [],
   "source": [
    "l=a.split()"
   ]
  },
  {
   "cell_type": "code",
   "execution_count": 96,
   "id": "3b8c3347",
   "metadata": {},
   "outputs": [
    {
     "data": {
      "text/plain": [
       "['i', 'am', 'working', 'for', 'the', 'people']"
      ]
     },
     "execution_count": 96,
     "metadata": {},
     "output_type": "execute_result"
    }
   ],
   "source": [
    "l"
   ]
  },
  {
   "cell_type": "code",
   "execution_count": 97,
   "id": "2b1f636e",
   "metadata": {},
   "outputs": [
    {
     "data": {
      "text/plain": [
       "'i'"
      ]
     },
     "execution_count": 97,
     "metadata": {},
     "output_type": "execute_result"
    }
   ],
   "source": [
    "l[0]"
   ]
  },
  {
   "cell_type": "code",
   "execution_count": 98,
   "id": "a9fc7cc5",
   "metadata": {},
   "outputs": [
    {
     "data": {
      "text/plain": [
       "'am'"
      ]
     },
     "execution_count": 98,
     "metadata": {},
     "output_type": "execute_result"
    }
   ],
   "source": [
    "l[1]"
   ]
  },
  {
   "cell_type": "markdown",
   "id": "21037794",
   "metadata": {},
   "source": [
    "# "
   ]
  },
  {
   "cell_type": "code",
   "execution_count": 99,
   "id": "3a782aae",
   "metadata": {},
   "outputs": [
    {
     "data": {
      "text/plain": [
       "['i', 'am', 'working']"
      ]
     },
     "execution_count": 99,
     "metadata": {},
     "output_type": "execute_result"
    }
   ],
   "source": [
    "l[0:3]"
   ]
  },
  {
   "cell_type": "code",
   "execution_count": 100,
   "id": "54b6e07e",
   "metadata": {},
   "outputs": [
    {
     "data": {
      "text/plain": [
       "['i', 'am', 'working', 'for', 'the', 'people']"
      ]
     },
     "execution_count": 100,
     "metadata": {},
     "output_type": "execute_result"
    }
   ],
   "source": [
    "l"
   ]
  },
  {
   "cell_type": "code",
   "execution_count": 101,
   "id": "6c499164",
   "metadata": {},
   "outputs": [
    {
     "data": {
      "text/plain": [
       "'i am working for the people'"
      ]
     },
     "execution_count": 101,
     "metadata": {},
     "output_type": "execute_result"
    }
   ],
   "source": [
    "a"
   ]
  },
  {
   "cell_type": "code",
   "execution_count": 102,
   "id": "35ec16b7",
   "metadata": {},
   "outputs": [
    {
     "data": {
      "text/plain": [
       "['i am ', 'orking for the people']"
      ]
     },
     "execution_count": 102,
     "metadata": {},
     "output_type": "execute_result"
    }
   ],
   "source": [
    "a.split(sep='w')"
   ]
  },
  {
   "cell_type": "code",
   "execution_count": 103,
   "id": "db40f977",
   "metadata": {},
   "outputs": [
    {
     "data": {
      "text/plain": [
       "['i am w', 'rking f', 'r the pe', 'ple']"
      ]
     },
     "execution_count": 103,
     "metadata": {},
     "output_type": "execute_result"
    }
   ],
   "source": [
    "a.split(sep=\"o\")"
   ]
  },
  {
   "cell_type": "code",
   "execution_count": 104,
   "id": "08ae640f",
   "metadata": {},
   "outputs": [
    {
     "data": {
      "text/plain": [
       "'i am working for the people'"
      ]
     },
     "execution_count": 104,
     "metadata": {},
     "output_type": "execute_result"
    }
   ],
   "source": [
    "a"
   ]
  },
  {
   "cell_type": "code",
   "execution_count": 105,
   "id": "6412c120",
   "metadata": {},
   "outputs": [
    {
     "data": {
      "text/plain": [
       "['i am ', 'rking for the people']"
      ]
     },
     "execution_count": 105,
     "metadata": {},
     "output_type": "execute_result"
    }
   ],
   "source": [
    "a.split('wo')"
   ]
  },
  {
   "cell_type": "code",
   "execution_count": 106,
   "id": "5dd36550",
   "metadata": {},
   "outputs": [
    {
     "data": {
      "text/plain": [
       "'i am working for the people'"
      ]
     },
     "execution_count": 106,
     "metadata": {},
     "output_type": "execute_result"
    }
   ],
   "source": [
    "a"
   ]
  },
  {
   "cell_type": "code",
   "execution_count": 107,
   "id": "706b94a3",
   "metadata": {},
   "outputs": [
    {
     "data": {
      "text/plain": [
       "'I AM WORKING FOR THE PEOPLE'"
      ]
     },
     "execution_count": 107,
     "metadata": {},
     "output_type": "execute_result"
    }
   ],
   "source": [
    "a.upper()"
   ]
  },
  {
   "cell_type": "code",
   "execution_count": 108,
   "id": "35311153",
   "metadata": {},
   "outputs": [
    {
     "data": {
      "text/plain": [
       "'i am working for the people'"
      ]
     },
     "execution_count": 108,
     "metadata": {},
     "output_type": "execute_result"
    }
   ],
   "source": [
    "a"
   ]
  },
  {
   "cell_type": "code",
   "execution_count": 109,
   "id": "95186644",
   "metadata": {},
   "outputs": [],
   "source": [
    "s=\"DiNnEr\""
   ]
  },
  {
   "cell_type": "code",
   "execution_count": 110,
   "id": "10a4567a",
   "metadata": {},
   "outputs": [
    {
     "data": {
      "text/plain": [
       "'dInNeR'"
      ]
     },
     "execution_count": 110,
     "metadata": {},
     "output_type": "execute_result"
    }
   ],
   "source": [
    "s.swapcase()"
   ]
  },
  {
   "cell_type": "code",
   "execution_count": 111,
   "id": "de9082f8",
   "metadata": {},
   "outputs": [
    {
     "data": {
      "text/plain": [
       "'DiNnEr'"
      ]
     },
     "execution_count": 111,
     "metadata": {},
     "output_type": "execute_result"
    }
   ],
   "source": [
    "s"
   ]
  },
  {
   "cell_type": "code",
   "execution_count": 112,
   "id": "ac893671",
   "metadata": {},
   "outputs": [
    {
     "data": {
      "text/plain": [
       "'Dinner'"
      ]
     },
     "execution_count": 112,
     "metadata": {},
     "output_type": "execute_result"
    }
   ],
   "source": [
    "s.title()"
   ]
  },
  {
   "cell_type": "code",
   "execution_count": 113,
   "id": "b6337d92",
   "metadata": {},
   "outputs": [
    {
     "data": {
      "text/plain": [
       "'Dinner'"
      ]
     },
     "execution_count": 113,
     "metadata": {},
     "output_type": "execute_result"
    }
   ],
   "source": [
    "s.capitalize()"
   ]
  },
  {
   "cell_type": "code",
   "execution_count": 114,
   "id": "0625551a",
   "metadata": {},
   "outputs": [],
   "source": [
    "b=\"Dinner\"\n",
    "c=\"KFC\""
   ]
  },
  {
   "cell_type": "code",
   "execution_count": 115,
   "id": "3483e76d",
   "metadata": {},
   "outputs": [
    {
     "data": {
      "text/plain": [
       "'KDinnerFDinnerC'"
      ]
     },
     "execution_count": 115,
     "metadata": {},
     "output_type": "execute_result"
    }
   ],
   "source": [
    "b.join(c) # after every character of c give b"
   ]
  },
  {
   "cell_type": "code",
   "execution_count": 116,
   "id": "356625a4",
   "metadata": {},
   "outputs": [
    {
     "data": {
      "text/plain": [
       "'D i n n e r'"
      ]
     },
     "execution_count": 116,
     "metadata": {},
     "output_type": "execute_result"
    }
   ],
   "source": [
    "\" \".join(b) # after every charachter of b give space"
   ]
  },
  {
   "cell_type": "code",
   "execution_count": 117,
   "id": "776657d9",
   "metadata": {},
   "outputs": [
    {
     "data": {
      "text/plain": [
       "<reversed at 0x1f50f3d2160>"
      ]
     },
     "execution_count": 117,
     "metadata": {},
     "output_type": "execute_result"
    }
   ],
   "source": [
    "reversed(\"Nazmul\")"
   ]
  },
  {
   "cell_type": "code",
   "execution_count": 118,
   "id": "139b3a59",
   "metadata": {},
   "outputs": [
    {
     "name": "stdout",
     "output_type": "stream",
     "text": [
      "l\n",
      "u\n",
      "m\n",
      "z\n",
      "a\n",
      "N\n"
     ]
    }
   ],
   "source": [
    "for i in reversed(\"Nazmul\"):\n",
    "    print(i)"
   ]
  },
  {
   "cell_type": "code",
   "execution_count": 119,
   "id": "671207c3",
   "metadata": {},
   "outputs": [],
   "source": [
    "n=\"Nazmul\""
   ]
  },
  {
   "cell_type": "code",
   "execution_count": 120,
   "id": "6b1c20e5",
   "metadata": {},
   "outputs": [
    {
     "data": {
      "text/plain": [
       "'lumzaN'"
      ]
     },
     "execution_count": 120,
     "metadata": {},
     "output_type": "execute_result"
    }
   ],
   "source": [
    "n[::-1]"
   ]
  },
  {
   "cell_type": "code",
   "execution_count": 121,
   "id": "87a43673",
   "metadata": {},
   "outputs": [],
   "source": [
    "n=\" Nazmul \""
   ]
  },
  {
   "cell_type": "code",
   "execution_count": 122,
   "id": "b57c9c1e",
   "metadata": {},
   "outputs": [
    {
     "data": {
      "text/plain": [
       "' Nazmul'"
      ]
     },
     "execution_count": 122,
     "metadata": {},
     "output_type": "execute_result"
    }
   ],
   "source": [
    "n.rstrip() # right space removed"
   ]
  },
  {
   "cell_type": "code",
   "execution_count": 123,
   "id": "13d3648d",
   "metadata": {},
   "outputs": [
    {
     "data": {
      "text/plain": [
       "'Nazmul '"
      ]
     },
     "execution_count": 123,
     "metadata": {},
     "output_type": "execute_result"
    }
   ],
   "source": [
    "n.lstrip()"
   ]
  },
  {
   "cell_type": "code",
   "execution_count": 124,
   "id": "45488dcf",
   "metadata": {},
   "outputs": [
    {
     "data": {
      "text/plain": [
       "'Nazmul'"
      ]
     },
     "execution_count": 124,
     "metadata": {},
     "output_type": "execute_result"
    }
   ],
   "source": [
    "n.strip()"
   ]
  },
  {
   "cell_type": "code",
   "execution_count": 125,
   "id": "b37a9c5e",
   "metadata": {},
   "outputs": [
    {
     "data": {
      "text/plain": [
       "' Nazmul '"
      ]
     },
     "execution_count": 125,
     "metadata": {},
     "output_type": "execute_result"
    }
   ],
   "source": [
    "n"
   ]
  },
  {
   "cell_type": "code",
   "execution_count": 126,
   "id": "d699d19d",
   "metadata": {},
   "outputs": [],
   "source": [
    "p=\"Nazmul\""
   ]
  },
  {
   "cell_type": "code",
   "execution_count": 127,
   "id": "389a9680",
   "metadata": {},
   "outputs": [
    {
     "data": {
      "text/plain": [
       "'Nxyzzmul'"
      ]
     },
     "execution_count": 127,
     "metadata": {},
     "output_type": "execute_result"
    }
   ],
   "source": [
    "p.replace(\"a\", \"xyz\")"
   ]
  },
  {
   "cell_type": "code",
   "execution_count": 128,
   "id": "cfaac250",
   "metadata": {},
   "outputs": [
    {
     "data": {
      "text/plain": [
       "'Nazmul'"
      ]
     },
     "execution_count": 128,
     "metadata": {},
     "output_type": "execute_result"
    }
   ],
   "source": [
    "p.replace(\"p\", \"xyz\")"
   ]
  },
  {
   "cell_type": "code",
   "execution_count": 129,
   "id": "c9846df1",
   "metadata": {},
   "outputs": [
    {
     "data": {
      "text/plain": [
       "'Namul   islam'"
      ]
     },
     "execution_count": 129,
     "metadata": {},
     "output_type": "execute_result"
    }
   ],
   "source": [
    "\"Namul\\tislam\".expandtabs()"
   ]
  },
  {
   "cell_type": "code",
   "execution_count": 130,
   "id": "5ac8f324",
   "metadata": {},
   "outputs": [
    {
     "data": {
      "text/plain": [
       "'Nazmul'"
      ]
     },
     "execution_count": 130,
     "metadata": {},
     "output_type": "execute_result"
    }
   ],
   "source": [
    "p"
   ]
  },
  {
   "cell_type": "code",
   "execution_count": 131,
   "id": "af5d905f",
   "metadata": {},
   "outputs": [
    {
     "data": {
      "text/plain": [
       "'tttttttttttttttttNazmulttttttttttttttttt'"
      ]
     },
     "execution_count": 131,
     "metadata": {},
     "output_type": "execute_result"
    }
   ],
   "source": [
    "p.center(40, 't')"
   ]
  },
  {
   "cell_type": "code",
   "execution_count": 132,
   "id": "5915b8b0",
   "metadata": {},
   "outputs": [
    {
     "ename": "TypeError",
     "evalue": "The fill character must be exactly one character long",
     "output_type": "error",
     "traceback": [
      "\u001b[1;31m---------------------------------------------------------------------------\u001b[0m",
      "\u001b[1;31mTypeError\u001b[0m                                 Traceback (most recent call last)",
      "\u001b[1;32m<ipython-input-132-bfee103962d9>\u001b[0m in \u001b[0;36m<module>\u001b[1;34m\u001b[0m\n\u001b[1;32m----> 1\u001b[1;33m \u001b[0mp\u001b[0m\u001b[1;33m.\u001b[0m\u001b[0mcenter\u001b[0m\u001b[1;33m(\u001b[0m\u001b[1;36m40\u001b[0m\u001b[1;33m,\u001b[0m\u001b[1;34m\"tgt\"\u001b[0m\u001b[1;33m)\u001b[0m\u001b[1;33m\u001b[0m\u001b[1;33m\u001b[0m\u001b[0m\n\u001b[0m",
      "\u001b[1;31mTypeError\u001b[0m: The fill character must be exactly one character long"
     ]
    }
   ],
   "source": [
    "p.center(40,\"tgt\")"
   ]
  },
  {
   "cell_type": "code",
   "execution_count": 133,
   "id": "3608bf15",
   "metadata": {},
   "outputs": [
    {
     "data": {
      "text/plain": [
       "'#################Nazmul#################'"
      ]
     },
     "execution_count": 133,
     "metadata": {},
     "output_type": "execute_result"
    }
   ],
   "source": [
    "p.center(40,\"#\")"
   ]
  },
  {
   "cell_type": "markdown",
   "id": "89b1d7de",
   "metadata": {},
   "source": [
    "Break"
   ]
  },
  {
   "cell_type": "code",
   "execution_count": 134,
   "id": "c8ead536",
   "metadata": {},
   "outputs": [
    {
     "data": {
      "text/plain": [
       "'Nazmul'"
      ]
     },
     "execution_count": 134,
     "metadata": {},
     "output_type": "execute_result"
    }
   ],
   "source": [
    "p"
   ]
  },
  {
   "cell_type": "code",
   "execution_count": 135,
   "id": "91418f93",
   "metadata": {},
   "outputs": [
    {
     "data": {
      "text/plain": [
       "False"
      ]
     },
     "execution_count": 135,
     "metadata": {},
     "output_type": "execute_result"
    }
   ],
   "source": [
    "p.isupper() "
   ]
  },
  {
   "cell_type": "code",
   "execution_count": 136,
   "id": "5b48304f",
   "metadata": {},
   "outputs": [],
   "source": [
    "#is gives bolean output; it checks wether the function is upper case or not"
   ]
  },
  {
   "cell_type": "code",
   "execution_count": 137,
   "id": "9bfc59d1",
   "metadata": {},
   "outputs": [
    {
     "data": {
      "text/plain": [
       "True"
      ]
     },
     "execution_count": 137,
     "metadata": {},
     "output_type": "execute_result"
    }
   ],
   "source": [
    "p.istitle()"
   ]
  },
  {
   "cell_type": "code",
   "execution_count": 138,
   "id": "7326a60d",
   "metadata": {},
   "outputs": [],
   "source": [
    "n=\"NAZMUL\""
   ]
  },
  {
   "cell_type": "code",
   "execution_count": 139,
   "id": "53cbe9ba",
   "metadata": {},
   "outputs": [
    {
     "data": {
      "text/plain": [
       "True"
      ]
     },
     "execution_count": 139,
     "metadata": {},
     "output_type": "execute_result"
    }
   ],
   "source": [
    "n.isupper()"
   ]
  },
  {
   "cell_type": "code",
   "execution_count": 140,
   "id": "3a231373",
   "metadata": {},
   "outputs": [
    {
     "data": {
      "text/plain": [
       "False"
      ]
     },
     "execution_count": 140,
     "metadata": {},
     "output_type": "execute_result"
    }
   ],
   "source": [
    "s=\"     hhghd\"\n",
    "s.isspace()"
   ]
  },
  {
   "cell_type": "code",
   "execution_count": 141,
   "id": "0bb5a3b5",
   "metadata": {},
   "outputs": [
    {
     "data": {
      "text/plain": [
       "True"
      ]
     },
     "execution_count": 141,
     "metadata": {},
     "output_type": "execute_result"
    }
   ],
   "source": [
    "sp=\" \"\n",
    "sp.isspace()"
   ]
  },
  {
   "cell_type": "code",
   "execution_count": 142,
   "id": "87e3d32e",
   "metadata": {},
   "outputs": [
    {
     "data": {
      "text/plain": [
       "'NAZMUL'"
      ]
     },
     "execution_count": 142,
     "metadata": {},
     "output_type": "execute_result"
    }
   ],
   "source": [
    "n"
   ]
  },
  {
   "cell_type": "code",
   "execution_count": 143,
   "id": "57965c54",
   "metadata": {},
   "outputs": [
    {
     "data": {
      "text/plain": [
       "False"
      ]
     },
     "execution_count": 143,
     "metadata": {},
     "output_type": "execute_result"
    }
   ],
   "source": [
    "n.isdigit()"
   ]
  },
  {
   "cell_type": "code",
   "execution_count": 144,
   "id": "2ed704c3",
   "metadata": {},
   "outputs": [
    {
     "data": {
      "text/plain": [
       "True"
      ]
     },
     "execution_count": 144,
     "metadata": {},
     "output_type": "execute_result"
    }
   ],
   "source": [
    "d=\"5656\"\n",
    "d.isdigit()"
   ]
  },
  {
   "cell_type": "code",
   "execution_count": 145,
   "id": "8fccf854",
   "metadata": {},
   "outputs": [
    {
     "data": {
      "text/plain": [
       "'NAZMUL'"
      ]
     },
     "execution_count": 145,
     "metadata": {},
     "output_type": "execute_result"
    }
   ],
   "source": [
    "n"
   ]
  },
  {
   "cell_type": "code",
   "execution_count": 146,
   "id": "d7aa2871",
   "metadata": {},
   "outputs": [
    {
     "data": {
      "text/plain": [
       "True"
      ]
     },
     "execution_count": 146,
     "metadata": {},
     "output_type": "execute_result"
    }
   ],
   "source": [
    "n.endswith(\"L\")"
   ]
  },
  {
   "cell_type": "code",
   "execution_count": 147,
   "id": "6497154f",
   "metadata": {},
   "outputs": [
    {
     "data": {
      "text/plain": [
       "False"
      ]
     },
     "execution_count": 147,
     "metadata": {},
     "output_type": "execute_result"
    }
   ],
   "source": [
    "n.endswith(\"K\")"
   ]
  },
  {
   "cell_type": "code",
   "execution_count": 148,
   "id": "2f382a11",
   "metadata": {},
   "outputs": [
    {
     "data": {
      "text/plain": [
       "True"
      ]
     },
     "execution_count": 148,
     "metadata": {},
     "output_type": "execute_result"
    }
   ],
   "source": [
    "n.startswith(\"N\")"
   ]
  },
  {
   "cell_type": "markdown",
   "id": "82249b60",
   "metadata": {},
   "source": [
    "## List"
   ]
  },
  {
   "cell_type": "code",
   "execution_count": 149,
   "id": "c1f400aa",
   "metadata": {},
   "outputs": [],
   "source": [
    "# List is nothingbut a collection of multiple heterogenous or homogenous objcts"
   ]
  },
  {
   "cell_type": "code",
   "execution_count": 150,
   "id": "09c07f0f",
   "metadata": {},
   "outputs": [],
   "source": [
    "l=[\"Name\", \"Title\", 345, 4+6j, True , 5.6] # heteregonous data"
   ]
  },
  {
   "cell_type": "code",
   "execution_count": 151,
   "id": "8473c734",
   "metadata": {},
   "outputs": [
    {
     "data": {
      "text/plain": [
       "list"
      ]
     },
     "execution_count": 151,
     "metadata": {},
     "output_type": "execute_result"
    }
   ],
   "source": [
    "type(l)"
   ]
  },
  {
   "cell_type": "code",
   "execution_count": 152,
   "id": "3a4baca3",
   "metadata": {},
   "outputs": [
    {
     "data": {
      "text/plain": [
       "['Name', 'Title', 345, (4+6j), True, 5.6]"
      ]
     },
     "execution_count": 152,
     "metadata": {},
     "output_type": "execute_result"
    }
   ],
   "source": [
    "l"
   ]
  },
  {
   "cell_type": "code",
   "execution_count": 153,
   "id": "793f4260",
   "metadata": {},
   "outputs": [
    {
     "data": {
      "text/plain": [
       "'Name'"
      ]
     },
     "execution_count": 153,
     "metadata": {},
     "output_type": "execute_result"
    }
   ],
   "source": [
    "l[0]"
   ]
  },
  {
   "cell_type": "code",
   "execution_count": 154,
   "id": "7c0bf630",
   "metadata": {},
   "outputs": [
    {
     "data": {
      "text/plain": [
       "'Title'"
      ]
     },
     "execution_count": 154,
     "metadata": {},
     "output_type": "execute_result"
    }
   ],
   "source": [
    "l[1]"
   ]
  },
  {
   "cell_type": "code",
   "execution_count": 155,
   "id": "1380f654",
   "metadata": {},
   "outputs": [
    {
     "data": {
      "text/plain": [
       "5.6"
      ]
     },
     "execution_count": 155,
     "metadata": {},
     "output_type": "execute_result"
    }
   ],
   "source": [
    "l[-1]"
   ]
  },
  {
   "cell_type": "code",
   "execution_count": 156,
   "id": "3e88e330",
   "metadata": {},
   "outputs": [
    {
     "data": {
      "text/plain": [
       "'Title'"
      ]
     },
     "execution_count": 156,
     "metadata": {},
     "output_type": "execute_result"
    }
   ],
   "source": [
    "l[-5]"
   ]
  },
  {
   "cell_type": "code",
   "execution_count": 157,
   "id": "e13016e1",
   "metadata": {},
   "outputs": [
    {
     "ename": "IndexError",
     "evalue": "list index out of range",
     "output_type": "error",
     "traceback": [
      "\u001b[1;31m---------------------------------------------------------------------------\u001b[0m",
      "\u001b[1;31mIndexError\u001b[0m                                Traceback (most recent call last)",
      "\u001b[1;32m<ipython-input-157-2b30aa95d473>\u001b[0m in \u001b[0;36m<module>\u001b[1;34m\u001b[0m\n\u001b[1;32m----> 1\u001b[1;33m \u001b[0ml\u001b[0m\u001b[1;33m[\u001b[0m\u001b[1;33m-\u001b[0m\u001b[1;36m100\u001b[0m\u001b[1;33m]\u001b[0m\u001b[1;33m\u001b[0m\u001b[1;33m\u001b[0m\u001b[0m\n\u001b[0m",
      "\u001b[1;31mIndexError\u001b[0m: list index out of range"
     ]
    }
   ],
   "source": [
    "l[-100]"
   ]
  },
  {
   "cell_type": "code",
   "execution_count": 158,
   "id": "dee743aa",
   "metadata": {},
   "outputs": [
    {
     "data": {
      "text/plain": [
       "['Name', 'Title', 345, (4+6j)]"
      ]
     },
     "execution_count": 158,
     "metadata": {},
     "output_type": "execute_result"
    }
   ],
   "source": [
    "l[0:4]"
   ]
  },
  {
   "cell_type": "code",
   "execution_count": 159,
   "id": "d13bcac5",
   "metadata": {},
   "outputs": [
    {
     "data": {
      "text/plain": [
       "[5.6, True, (4+6j), 345, 'Title', 'Name']"
      ]
     },
     "execution_count": 159,
     "metadata": {},
     "output_type": "execute_result"
    }
   ],
   "source": [
    "l[::-1]"
   ]
  },
  {
   "cell_type": "code",
   "execution_count": 160,
   "id": "559dd804",
   "metadata": {},
   "outputs": [
    {
     "data": {
      "text/plain": [
       "['Name', 'Title', 345, (4+6j), True, 5.6]"
      ]
     },
     "execution_count": 160,
     "metadata": {},
     "output_type": "execute_result"
    }
   ],
   "source": [
    "l"
   ]
  },
  {
   "cell_type": "code",
   "execution_count": 161,
   "id": "bb3a2e94",
   "metadata": {},
   "outputs": [
    {
     "data": {
      "text/plain": [
       "[5.6]"
      ]
     },
     "execution_count": 161,
     "metadata": {},
     "output_type": "execute_result"
    }
   ],
   "source": [
    "l[-1:6]"
   ]
  },
  {
   "cell_type": "code",
   "execution_count": 162,
   "id": "10884190",
   "metadata": {},
   "outputs": [
    {
     "data": {
      "text/plain": [
       "[]"
      ]
     },
     "execution_count": 162,
     "metadata": {},
     "output_type": "execute_result"
    }
   ],
   "source": [
    "l[-1:3]"
   ]
  },
  {
   "cell_type": "code",
   "execution_count": 163,
   "id": "19c53df3",
   "metadata": {},
   "outputs": [
    {
     "data": {
      "text/plain": [
       "['Name', 'Title', 345, (4+6j), True, 5.6]"
      ]
     },
     "execution_count": 163,
     "metadata": {},
     "output_type": "execute_result"
    }
   ],
   "source": [
    "l"
   ]
  },
  {
   "cell_type": "code",
   "execution_count": 164,
   "id": "5d098104",
   "metadata": {},
   "outputs": [
    {
     "data": {
      "text/plain": [
       "str"
      ]
     },
     "execution_count": 164,
     "metadata": {},
     "output_type": "execute_result"
    }
   ],
   "source": [
    "type(l[0])"
   ]
  },
  {
   "cell_type": "code",
   "execution_count": 165,
   "id": "c7442d7f",
   "metadata": {},
   "outputs": [
    {
     "data": {
      "text/plain": [
       "'Name'"
      ]
     },
     "execution_count": 165,
     "metadata": {},
     "output_type": "execute_result"
    }
   ],
   "source": [
    "l[0]"
   ]
  },
  {
   "cell_type": "code",
   "execution_count": 166,
   "id": "69cc80f3",
   "metadata": {},
   "outputs": [
    {
     "data": {
      "text/plain": [
       "'a'"
      ]
     },
     "execution_count": 166,
     "metadata": {},
     "output_type": "execute_result"
    }
   ],
   "source": [
    "l[0][1]"
   ]
  },
  {
   "cell_type": "code",
   "execution_count": 167,
   "id": "89bcaf68",
   "metadata": {},
   "outputs": [
    {
     "data": {
      "text/plain": [
       "['Name', 'Title', 345, (4+6j), True, 5.6]"
      ]
     },
     "execution_count": 167,
     "metadata": {},
     "output_type": "execute_result"
    }
   ],
   "source": [
    "l"
   ]
  },
  {
   "cell_type": "code",
   "execution_count": 168,
   "id": "3ab8b7b3",
   "metadata": {},
   "outputs": [
    {
     "data": {
      "text/plain": [
       "(4+6j)"
      ]
     },
     "execution_count": 168,
     "metadata": {},
     "output_type": "execute_result"
    }
   ],
   "source": [
    "l[3]"
   ]
  },
  {
   "cell_type": "code",
   "execution_count": 169,
   "id": "3ff7c48a",
   "metadata": {},
   "outputs": [
    {
     "data": {
      "text/plain": [
       "4.0"
      ]
     },
     "execution_count": 169,
     "metadata": {},
     "output_type": "execute_result"
    }
   ],
   "source": [
    "l[3].real"
   ]
  },
  {
   "cell_type": "markdown",
   "id": "dfe59505",
   "metadata": {},
   "source": [
    "# List is nothingbut a collection of multiple heterogenous or homogenous objcts"
   ]
  },
  {
   "cell_type": "code",
   "execution_count": 170,
   "id": "dcf9547f",
   "metadata": {},
   "outputs": [],
   "source": [
    "l1=[\"Nazmul\",\"islam\",4.556]\n",
    "l2=[\"xyz\",\"abc\",5878]"
   ]
  },
  {
   "cell_type": "code",
   "execution_count": 171,
   "id": "2e0fb92e",
   "metadata": {},
   "outputs": [
    {
     "data": {
      "text/plain": [
       "['Nazmul', 'islam', 4.556, 'xyz', 'abc', 5878]"
      ]
     },
     "execution_count": 171,
     "metadata": {},
     "output_type": "execute_result"
    }
   ],
   "source": [
    "l1+l2 # because same type of data type concatanatio possible"
   ]
  },
  {
   "cell_type": "code",
   "execution_count": 172,
   "id": "01f3087d",
   "metadata": {},
   "outputs": [
    {
     "ename": "TypeError",
     "evalue": "can only concatenate list (not \"str\") to list",
     "output_type": "error",
     "traceback": [
      "\u001b[1;31m---------------------------------------------------------------------------\u001b[0m",
      "\u001b[1;31mTypeError\u001b[0m                                 Traceback (most recent call last)",
      "\u001b[1;32m<ipython-input-172-6cdde4e4ce3c>\u001b[0m in \u001b[0;36m<module>\u001b[1;34m\u001b[0m\n\u001b[1;32m----> 1\u001b[1;33m \u001b[0ml1\u001b[0m\u001b[1;33m+\u001b[0m\u001b[1;34m\"Nazmul\"\u001b[0m\u001b[1;33m\u001b[0m\u001b[1;33m\u001b[0m\u001b[0m\n\u001b[0m",
      "\u001b[1;31mTypeError\u001b[0m: can only concatenate list (not \"str\") to list"
     ]
    }
   ],
   "source": [
    "l1+\"Nazmul\""
   ]
  },
  {
   "cell_type": "code",
   "execution_count": 173,
   "id": "348007d5",
   "metadata": {},
   "outputs": [
    {
     "data": {
      "text/plain": [
       "['Nazmul', 'islam', 4.556, 'Nazmul']"
      ]
     },
     "execution_count": 173,
     "metadata": {},
     "output_type": "execute_result"
    }
   ],
   "source": [
    "l1+[\"Nazmul\"]"
   ]
  },
  {
   "cell_type": "code",
   "execution_count": 174,
   "id": "ffc8616b",
   "metadata": {},
   "outputs": [
    {
     "data": {
      "text/plain": [
       "['Nazmul', 'islam', 4.556, 'Nazmul', 'islam', 4.556]"
      ]
     },
     "execution_count": 174,
     "metadata": {},
     "output_type": "execute_result"
    }
   ],
   "source": [
    "l1*2"
   ]
  },
  {
   "cell_type": "code",
   "execution_count": 175,
   "id": "aa07dde2",
   "metadata": {},
   "outputs": [
    {
     "data": {
      "text/plain": [
       "['Nazmul', 'islam', 4.556]"
      ]
     },
     "execution_count": 175,
     "metadata": {},
     "output_type": "execute_result"
    }
   ],
   "source": [
    "l1=['Nazmul', 'islam', 4.556]\n",
    "l1"
   ]
  },
  {
   "cell_type": "code",
   "execution_count": 176,
   "id": "15fcaebd",
   "metadata": {},
   "outputs": [],
   "source": [
    "#replace \"Nazmul\" by \"xyz\"\n",
    "l1[0] = \"xyz\"   #reassignment operation"
   ]
  },
  {
   "cell_type": "code",
   "execution_count": 177,
   "id": "b51ecdb8",
   "metadata": {},
   "outputs": [
    {
     "data": {
      "text/plain": [
       "['xyz', 'islam', 4.556]"
      ]
     },
     "execution_count": 177,
     "metadata": {},
     "output_type": "execute_result"
    }
   ],
   "source": [
    "l1"
   ]
  },
  {
   "cell_type": "code",
   "execution_count": 178,
   "id": "2828e80f",
   "metadata": {},
   "outputs": [],
   "source": [
    "#access islam and replace i with I\n"
   ]
  },
  {
   "cell_type": "code",
   "execution_count": 179,
   "id": "3ff66000",
   "metadata": {},
   "outputs": [],
   "source": [
    "i=\"islam\""
   ]
  },
  {
   "cell_type": "code",
   "execution_count": 180,
   "id": "e89aac87",
   "metadata": {},
   "outputs": [
    {
     "data": {
      "text/plain": [
       "'i'"
      ]
     },
     "execution_count": 180,
     "metadata": {},
     "output_type": "execute_result"
    }
   ],
   "source": [
    "i[0]"
   ]
  },
  {
   "cell_type": "code",
   "execution_count": 181,
   "id": "7299b5bb",
   "metadata": {},
   "outputs": [
    {
     "ename": "TypeError",
     "evalue": "'str' object does not support item assignment",
     "output_type": "error",
     "traceback": [
      "\u001b[1;31m---------------------------------------------------------------------------\u001b[0m",
      "\u001b[1;31mTypeError\u001b[0m                                 Traceback (most recent call last)",
      "\u001b[1;32m<ipython-input-181-c9e57659dc6d>\u001b[0m in \u001b[0;36m<module>\u001b[1;34m\u001b[0m\n\u001b[1;32m----> 1\u001b[1;33m \u001b[0mi\u001b[0m\u001b[1;33m[\u001b[0m\u001b[1;36m0\u001b[0m\u001b[1;33m]\u001b[0m\u001b[1;33m=\u001b[0m\u001b[1;34m\"I\"\u001b[0m \u001b[1;31m#incase of string i am not able to change it but for list i can change\u001b[0m\u001b[1;33m\u001b[0m\u001b[1;33m\u001b[0m\u001b[0m\n\u001b[0m",
      "\u001b[1;31mTypeError\u001b[0m: 'str' object does not support item assignment"
     ]
    }
   ],
   "source": [
    "i[0]=\"I\" #incase of string i am not able to change it but for list i can change"
   ]
  },
  {
   "cell_type": "code",
   "execution_count": 182,
   "id": "2d3b866b",
   "metadata": {},
   "outputs": [],
   "source": [
    "#Mutability\n",
    "#List we can change the data in any indexes and i can do reassignment\n",
    "#but for string its not possible; immutable\n",
    "#List is mutable"
   ]
  },
  {
   "cell_type": "code",
   "execution_count": 183,
   "id": "bdc5e951",
   "metadata": {},
   "outputs": [],
   "source": [
    "#wecan change string by replace function; this creates \n",
    "#entire new memory adreess; entire new address has nothing to do \n",
    "#with mutability\n",
    "\n",
    "#mutabilty and immutabilty is related to item reasignment only"
   ]
  },
  {
   "cell_type": "code",
   "execution_count": 184,
   "id": "17dbe79c",
   "metadata": {},
   "outputs": [
    {
     "data": {
      "text/plain": [
       "'islam'"
      ]
     },
     "execution_count": 184,
     "metadata": {},
     "output_type": "execute_result"
    }
   ],
   "source": [
    "i"
   ]
  },
  {
   "cell_type": "code",
   "execution_count": 185,
   "id": "58112e95",
   "metadata": {},
   "outputs": [
    {
     "data": {
      "text/plain": [
       "'Islam'"
      ]
     },
     "execution_count": 185,
     "metadata": {},
     "output_type": "execute_result"
    }
   ],
   "source": [
    "i.replace(\"i\",\"I\") # this doesnt justify mutabilty or immutabilty"
   ]
  },
  {
   "cell_type": "code",
   "execution_count": 186,
   "id": "f7f48a2e",
   "metadata": {},
   "outputs": [
    {
     "data": {
      "text/plain": [
       "['xyz', 'islam', 4.556]"
      ]
     },
     "execution_count": 186,
     "metadata": {},
     "output_type": "execute_result"
    }
   ],
   "source": [
    "l1"
   ]
  },
  {
   "cell_type": "code",
   "execution_count": 187,
   "id": "112b196a",
   "metadata": {},
   "outputs": [
    {
     "data": {
      "text/plain": [
       "3"
      ]
     },
     "execution_count": 187,
     "metadata": {},
     "output_type": "execute_result"
    }
   ],
   "source": [
    "len(l1)"
   ]
  },
  {
   "cell_type": "code",
   "execution_count": 188,
   "id": "3759c73a",
   "metadata": {},
   "outputs": [
    {
     "data": {
      "text/plain": [
       "True"
      ]
     },
     "execution_count": 188,
     "metadata": {},
     "output_type": "execute_result"
    }
   ],
   "source": [
    "\"islam\" in l1"
   ]
  },
  {
   "cell_type": "code",
   "execution_count": 189,
   "id": "2e3deb5a",
   "metadata": {},
   "outputs": [
    {
     "data": {
      "text/plain": [
       "False"
      ]
     },
     "execution_count": 189,
     "metadata": {},
     "output_type": "execute_result"
    }
   ],
   "source": [
    "45 in l1"
   ]
  },
  {
   "cell_type": "code",
   "execution_count": 190,
   "id": "1e98c0ff",
   "metadata": {},
   "outputs": [
    {
     "data": {
      "text/plain": [
       "['xyz', 'islam', 4.556]"
      ]
     },
     "execution_count": 190,
     "metadata": {},
     "output_type": "execute_result"
    }
   ],
   "source": [
    "l1"
   ]
  },
  {
   "cell_type": "code",
   "execution_count": 191,
   "id": "9da5ddb9",
   "metadata": {},
   "outputs": [],
   "source": [
    "l1.append(\"PGKG\") #append to add element at last"
   ]
  },
  {
   "cell_type": "code",
   "execution_count": 192,
   "id": "000886ff",
   "metadata": {},
   "outputs": [
    {
     "data": {
      "text/plain": [
       "['xyz', 'islam', 4.556, 'PGKG']"
      ]
     },
     "execution_count": 192,
     "metadata": {},
     "output_type": "execute_result"
    }
   ],
   "source": [
    "l1"
   ]
  },
  {
   "cell_type": "code",
   "execution_count": 193,
   "id": "cedccb4c",
   "metadata": {},
   "outputs": [
    {
     "data": {
      "text/plain": [
       "['xyz', 'islam', 4.556, 'PGKG']"
      ]
     },
     "execution_count": 193,
     "metadata": {},
     "output_type": "execute_result"
    }
   ],
   "source": [
    "l1"
   ]
  },
  {
   "cell_type": "code",
   "execution_count": 194,
   "id": "84969408",
   "metadata": {},
   "outputs": [
    {
     "data": {
      "text/plain": [
       "'PGKG'"
      ]
     },
     "execution_count": 194,
     "metadata": {},
     "output_type": "execute_result"
    }
   ],
   "source": [
    "l1.pop() # it will remove last index by default"
   ]
  },
  {
   "cell_type": "code",
   "execution_count": 195,
   "id": "2ce01603",
   "metadata": {},
   "outputs": [
    {
     "data": {
      "text/plain": [
       "['xyz', 'islam', 4.556]"
      ]
     },
     "execution_count": 195,
     "metadata": {},
     "output_type": "execute_result"
    }
   ],
   "source": [
    "l1"
   ]
  },
  {
   "cell_type": "code",
   "execution_count": 196,
   "id": "e0b632d6",
   "metadata": {},
   "outputs": [
    {
     "data": {
      "text/plain": [
       "'islam'"
      ]
     },
     "execution_count": 196,
     "metadata": {},
     "output_type": "execute_result"
    }
   ],
   "source": [
    "l1.pop(1)"
   ]
  },
  {
   "cell_type": "code",
   "execution_count": 197,
   "id": "3bd167f6",
   "metadata": {},
   "outputs": [
    {
     "data": {
      "text/plain": [
       "['xyz', 4.556]"
      ]
     },
     "execution_count": 197,
     "metadata": {},
     "output_type": "execute_result"
    }
   ],
   "source": [
    "l1"
   ]
  },
  {
   "cell_type": "code",
   "execution_count": 198,
   "id": "72df86d8",
   "metadata": {},
   "outputs": [],
   "source": [
    "l1.append(\"thhhhth\")"
   ]
  },
  {
   "cell_type": "code",
   "execution_count": 199,
   "id": "4bc98c5d",
   "metadata": {},
   "outputs": [
    {
     "data": {
      "text/plain": [
       "['xyz', 4.556, 'thhhhth']"
      ]
     },
     "execution_count": 199,
     "metadata": {},
     "output_type": "execute_result"
    }
   ],
   "source": [
    "l1"
   ]
  },
  {
   "cell_type": "code",
   "execution_count": 200,
   "id": "e0417750",
   "metadata": {},
   "outputs": [],
   "source": [
    "l1.append(5+7j)"
   ]
  },
  {
   "cell_type": "code",
   "execution_count": 201,
   "id": "11d52ec2",
   "metadata": {},
   "outputs": [
    {
     "data": {
      "text/plain": [
       "['xyz', 4.556, 'thhhhth', (5+7j)]"
      ]
     },
     "execution_count": 201,
     "metadata": {},
     "output_type": "execute_result"
    }
   ],
   "source": [
    "l1"
   ]
  },
  {
   "cell_type": "code",
   "execution_count": 202,
   "id": "c6dfa736",
   "metadata": {},
   "outputs": [],
   "source": [
    "l1.append(8.3)"
   ]
  },
  {
   "cell_type": "code",
   "execution_count": 203,
   "id": "9cc7d3cc",
   "metadata": {},
   "outputs": [
    {
     "data": {
      "text/plain": [
       "['xyz', 4.556, 'thhhhth', (5+7j), 8.3]"
      ]
     },
     "execution_count": 203,
     "metadata": {},
     "output_type": "execute_result"
    }
   ],
   "source": [
    "l1"
   ]
  },
  {
   "cell_type": "code",
   "execution_count": 204,
   "id": "a280ac82",
   "metadata": {},
   "outputs": [],
   "source": [
    "#now what if i want to add something at perticular index?"
   ]
  },
  {
   "cell_type": "code",
   "execution_count": 205,
   "id": "aa4a2cf4",
   "metadata": {},
   "outputs": [],
   "source": [
    "l1.insert(0,\"Nazmul\")"
   ]
  },
  {
   "cell_type": "code",
   "execution_count": 206,
   "id": "d07b6f5e",
   "metadata": {},
   "outputs": [
    {
     "data": {
      "text/plain": [
       "['Nazmul', 'xyz', 4.556, 'thhhhth', (5+7j), 8.3]"
      ]
     },
     "execution_count": 206,
     "metadata": {},
     "output_type": "execute_result"
    }
   ],
   "source": [
    "l1"
   ]
  },
  {
   "cell_type": "code",
   "execution_count": 207,
   "id": "aa32603c",
   "metadata": {},
   "outputs": [],
   "source": [
    "l1.insert(3,[23,343,566])"
   ]
  },
  {
   "cell_type": "code",
   "execution_count": 208,
   "id": "ddff41df",
   "metadata": {},
   "outputs": [
    {
     "data": {
      "text/plain": [
       "['Nazmul', 'xyz', 4.556, [23, 343, 566], 'thhhhth', (5+7j), 8.3]"
      ]
     },
     "execution_count": 208,
     "metadata": {},
     "output_type": "execute_result"
    }
   ],
   "source": [
    "l1"
   ]
  },
  {
   "cell_type": "code",
   "execution_count": 209,
   "id": "9882e9b7",
   "metadata": {},
   "outputs": [],
   "source": [
    "#Reverse"
   ]
  },
  {
   "cell_type": "code",
   "execution_count": 210,
   "id": "6f364b1a",
   "metadata": {},
   "outputs": [
    {
     "data": {
      "text/plain": [
       "['Nazmul', 'xyz', 4.556, [23, 343, 566], 'thhhhth', (5+7j), 8.3]"
      ]
     },
     "execution_count": 210,
     "metadata": {},
     "output_type": "execute_result"
    }
   ],
   "source": [
    "l1"
   ]
  },
  {
   "cell_type": "code",
   "execution_count": 211,
   "id": "d2e34736",
   "metadata": {},
   "outputs": [
    {
     "data": {
      "text/plain": [
       "[8.3, (5+7j), 'thhhhth', [23, 343, 566], 4.556, 'xyz', 'Nazmul']"
      ]
     },
     "execution_count": 211,
     "metadata": {},
     "output_type": "execute_result"
    }
   ],
   "source": [
    "l1[::-1] #temporary reverse"
   ]
  },
  {
   "cell_type": "code",
   "execution_count": 212,
   "id": "6e39e575",
   "metadata": {},
   "outputs": [],
   "source": [
    "l1.reverse() #permanent reverse"
   ]
  },
  {
   "cell_type": "code",
   "execution_count": 213,
   "id": "14f1b2a5",
   "metadata": {},
   "outputs": [
    {
     "data": {
      "text/plain": [
       "[8.3, (5+7j), 'thhhhth', [23, 343, 566], 4.556, 'xyz', 'Nazmul']"
      ]
     },
     "execution_count": 213,
     "metadata": {},
     "output_type": "execute_result"
    }
   ],
   "source": [
    "l1"
   ]
  },
  {
   "cell_type": "code",
   "execution_count": 214,
   "id": "5d213f83",
   "metadata": {},
   "outputs": [
    {
     "data": {
      "text/plain": [
       "[8.3, (5+7j), 'thhhhth', [23, 343, 566], 4.556, 'xyz', 'Nazmul']"
      ]
     },
     "execution_count": 214,
     "metadata": {},
     "output_type": "execute_result"
    }
   ],
   "source": [
    "l1"
   ]
  },
  {
   "cell_type": "code",
   "execution_count": 215,
   "id": "e45ef139",
   "metadata": {},
   "outputs": [
    {
     "data": {
      "text/plain": [
       "343"
      ]
     },
     "execution_count": 215,
     "metadata": {},
     "output_type": "execute_result"
    }
   ],
   "source": [
    "#access343\n",
    "l1[3][1]"
   ]
  },
  {
   "cell_type": "code",
   "execution_count": 216,
   "id": "80a2c591",
   "metadata": {},
   "outputs": [
    {
     "data": {
      "text/plain": [
       "[8.3, (5+7j), 'thhhhth', [23, 343, 566], 4.556, 'xyz', 'Nazmul']"
      ]
     },
     "execution_count": 216,
     "metadata": {},
     "output_type": "execute_result"
    }
   ],
   "source": [
    "l1"
   ]
  },
  {
   "cell_type": "code",
   "execution_count": 218,
   "id": "eb4e1a83",
   "metadata": {},
   "outputs": [
    {
     "data": {
      "text/plain": [
       "0"
      ]
     },
     "execution_count": 218,
     "metadata": {},
     "output_type": "execute_result"
    }
   ],
   "source": [
    "l1.count('x')"
   ]
  },
  {
   "cell_type": "code",
   "execution_count": 219,
   "id": "317f5ce6",
   "metadata": {},
   "outputs": [
    {
     "data": {
      "text/plain": [
       "1"
      ]
     },
     "execution_count": 219,
     "metadata": {},
     "output_type": "execute_result"
    }
   ],
   "source": [
    "l1.count('xyz')"
   ]
  },
  {
   "cell_type": "code",
   "execution_count": 220,
   "id": "845650e3",
   "metadata": {},
   "outputs": [
    {
     "data": {
      "text/plain": [
       "[8.3, (5+7j), 'thhhhth', [23, 343, 566], 4.556, 'xyz', 'Nazmul']"
      ]
     },
     "execution_count": 220,
     "metadata": {},
     "output_type": "execute_result"
    }
   ],
   "source": [
    "l1"
   ]
  },
  {
   "cell_type": "code",
   "execution_count": 221,
   "id": "4c258bcc",
   "metadata": {},
   "outputs": [],
   "source": [
    "l1.append([1,2,3]) # append add as it is with out modification"
   ]
  },
  {
   "cell_type": "code",
   "execution_count": 222,
   "id": "09f26def",
   "metadata": {},
   "outputs": [
    {
     "data": {
      "text/plain": [
       "[8.3, (5+7j), 'thhhhth', [23, 343, 566], 4.556, 'xyz', 'Nazmul', [1, 2, 3]]"
      ]
     },
     "execution_count": 222,
     "metadata": {},
     "output_type": "execute_result"
    }
   ],
   "source": [
    "l1"
   ]
  },
  {
   "cell_type": "code",
   "execution_count": 225,
   "id": "a01da728",
   "metadata": {},
   "outputs": [],
   "source": [
    "l1.extend(['bf','fg']) # it extracts(unraveled) and add data"
   ]
  },
  {
   "cell_type": "code",
   "execution_count": 233,
   "id": "a119d45d",
   "metadata": {},
   "outputs": [
    {
     "data": {
      "text/plain": [
       "[8.3,\n",
       " (5+7j),\n",
       " 'thhhhth',\n",
       " [23, 343, 566],\n",
       " 4.556,\n",
       " 'xyz',\n",
       " 'Nazmul',\n",
       " [1, 2, 3],\n",
       " 'bf',\n",
       " 'fg']"
      ]
     },
     "execution_count": 233,
     "metadata": {},
     "output_type": "execute_result"
    }
   ],
   "source": [
    "l1"
   ]
  },
  {
   "cell_type": "code",
   "execution_count": 234,
   "id": "9cbf36c4",
   "metadata": {},
   "outputs": [
    {
     "ename": "TypeError",
     "evalue": "'int' object is not iterable",
     "output_type": "error",
     "traceback": [
      "\u001b[1;31m---------------------------------------------------------------------------\u001b[0m",
      "\u001b[1;31mTypeError\u001b[0m                                 Traceback (most recent call last)",
      "\u001b[1;32m<ipython-input-234-1f0e48229e26>\u001b[0m in \u001b[0;36m<module>\u001b[1;34m\u001b[0m\n\u001b[1;32m----> 1\u001b[1;33m \u001b[0ml1\u001b[0m\u001b[1;33m.\u001b[0m\u001b[0mextend\u001b[0m\u001b[1;33m(\u001b[0m\u001b[1;36m1212\u001b[0m\u001b[1;33m)\u001b[0m\u001b[1;33m\u001b[0m\u001b[1;33m\u001b[0m\u001b[0m\n\u001b[0m",
      "\u001b[1;31mTypeError\u001b[0m: 'int' object is not iterable"
     ]
    }
   ],
   "source": [
    "l1.extend(1212)"
   ]
  },
  {
   "cell_type": "code",
   "execution_count": 235,
   "id": "9f7acf20",
   "metadata": {},
   "outputs": [],
   "source": [
    "l1.extend([34,45]) #extend and concatanation kind of same"
   ]
  },
  {
   "cell_type": "code",
   "execution_count": 236,
   "id": "206338f5",
   "metadata": {},
   "outputs": [
    {
     "data": {
      "text/plain": [
       "[8.3,\n",
       " (5+7j),\n",
       " 'thhhhth',\n",
       " [23, 343, 566],\n",
       " 4.556,\n",
       " 'xyz',\n",
       " 'Nazmul',\n",
       " [1, 2, 3],\n",
       " 'bf',\n",
       " 'fg',\n",
       " 34,\n",
       " 45]"
      ]
     },
     "execution_count": 236,
     "metadata": {},
     "output_type": "execute_result"
    }
   ],
   "source": [
    "l1"
   ]
  },
  {
   "cell_type": "markdown",
   "id": "d53d30cf",
   "metadata": {},
   "source": [
    "- append means add as it is and in the lst index\n",
    "- insert means add in the perticular index\n",
    "- extend means unravel it and add it\n"
   ]
  },
  {
   "cell_type": "code",
   "execution_count": 230,
   "id": "a173e271",
   "metadata": {},
   "outputs": [
    {
     "data": {
      "text/plain": [
       "[1, 2, 3, 'nazh']"
      ]
     },
     "execution_count": 230,
     "metadata": {},
     "output_type": "execute_result"
    }
   ],
   "source": [
    "l3=[1,2,3]\n",
    "l3+['nazh']\n"
   ]
  },
  {
   "cell_type": "code",
   "execution_count": 231,
   "id": "e092d3af",
   "metadata": {},
   "outputs": [
    {
     "data": {
      "text/plain": [
       "[1, 2, 3]"
      ]
     },
     "execution_count": 231,
     "metadata": {},
     "output_type": "execute_result"
    }
   ],
   "source": [
    "l3"
   ]
  },
  {
   "cell_type": "code",
   "execution_count": 232,
   "id": "7baf90f7",
   "metadata": {},
   "outputs": [
    {
     "data": {
      "text/plain": [
       "[1, 2, 3, 'n', 'a', 'z', 'h']"
      ]
     },
     "execution_count": 232,
     "metadata": {},
     "output_type": "execute_result"
    }
   ],
   "source": [
    "l3+list('nazh')  "
   ]
  },
  {
   "cell_type": "code",
   "execution_count": null,
   "id": "1c0e5e01",
   "metadata": {},
   "outputs": [],
   "source": []
  }
 ],
 "metadata": {
  "kernelspec": {
   "display_name": "Python 3",
   "language": "python",
   "name": "python3"
  },
  "language_info": {
   "codemirror_mode": {
    "name": "ipython",
    "version": 3
   },
   "file_extension": ".py",
   "mimetype": "text/x-python",
   "name": "python",
   "nbconvert_exporter": "python",
   "pygments_lexer": "ipython3",
   "version": "3.8.8"
  }
 },
 "nbformat": 4,
 "nbformat_minor": 5
}
