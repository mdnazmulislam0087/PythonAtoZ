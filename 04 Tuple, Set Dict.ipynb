{
 "cells": [
  {
   "cell_type": "code",
   "execution_count": 2,
   "id": "66ad4664",
   "metadata": {},
   "outputs": [],
   "source": [
    "#Tuple -Collections, immutable like string"
   ]
  },
  {
   "cell_type": "code",
   "execution_count": 3,
   "id": "4172a573",
   "metadata": {},
   "outputs": [],
   "source": [
    "t=(1,2,3,4,5)"
   ]
  },
  {
   "cell_type": "code",
   "execution_count": 4,
   "id": "8ed024af",
   "metadata": {},
   "outputs": [
    {
     "data": {
      "text/plain": [
       "tuple"
      ]
     },
     "execution_count": 4,
     "metadata": {},
     "output_type": "execute_result"
    }
   ],
   "source": [
    "type(t)"
   ]
  },
  {
   "cell_type": "code",
   "execution_count": 5,
   "id": "8e284235",
   "metadata": {},
   "outputs": [],
   "source": [
    "t1=(\"Nazmul\",1.2,56,6+8j) #Heterogenous data"
   ]
  },
  {
   "cell_type": "code",
   "execution_count": 6,
   "id": "f1775df5",
   "metadata": {},
   "outputs": [
    {
     "data": {
      "text/plain": [
       "('Nazmul', 1.2, 56, (6+8j))"
      ]
     },
     "execution_count": 6,
     "metadata": {},
     "output_type": "execute_result"
    }
   ],
   "source": [
    "t1"
   ]
  },
  {
   "cell_type": "code",
   "execution_count": 7,
   "id": "f43da6c0",
   "metadata": {},
   "outputs": [],
   "source": [
    "L1=[\"Nazmul\",1.2,56,6+8j] #Heterogenous"
   ]
  },
  {
   "cell_type": "code",
   "execution_count": 8,
   "id": "53a1dd6b",
   "metadata": {},
   "outputs": [
    {
     "data": {
      "text/plain": [
       "list"
      ]
     },
     "execution_count": 8,
     "metadata": {},
     "output_type": "execute_result"
    }
   ],
   "source": [
    "type(L1)"
   ]
  },
  {
   "cell_type": "code",
   "execution_count": 9,
   "id": "6568fec5",
   "metadata": {},
   "outputs": [
    {
     "data": {
      "text/plain": [
       "tuple"
      ]
     },
     "execution_count": 9,
     "metadata": {},
     "output_type": "execute_result"
    }
   ],
   "source": [
    "t2=()\n",
    "type(t2)"
   ]
  },
  {
   "cell_type": "code",
   "execution_count": 10,
   "id": "b4aa0098",
   "metadata": {},
   "outputs": [
    {
     "data": {
      "text/plain": [
       "int"
      ]
     },
     "execution_count": 10,
     "metadata": {},
     "output_type": "execute_result"
    }
   ],
   "source": [
    "t3=(1)\n",
    "type(t3)"
   ]
  },
  {
   "cell_type": "code",
   "execution_count": 11,
   "id": "4ef708dc",
   "metadata": {},
   "outputs": [
    {
     "data": {
      "text/plain": [
       "tuple"
      ]
     },
     "execution_count": 11,
     "metadata": {},
     "output_type": "execute_result"
    }
   ],
   "source": [
    "t3=(1,)\n",
    "type(t3)"
   ]
  },
  {
   "cell_type": "code",
   "execution_count": 18,
   "id": "7dbd01ca",
   "metadata": {},
   "outputs": [],
   "source": [
    "#slicing is same "
   ]
  },
  {
   "cell_type": "code",
   "execution_count": 14,
   "id": "8f49d65b",
   "metadata": {},
   "outputs": [
    {
     "data": {
      "text/plain": [
       "['Nazmul', 1.2, 56, (6+8j)]"
      ]
     },
     "execution_count": 14,
     "metadata": {},
     "output_type": "execute_result"
    }
   ],
   "source": [
    "L1"
   ]
  },
  {
   "cell_type": "code",
   "execution_count": 15,
   "id": "b6dcd571",
   "metadata": {},
   "outputs": [
    {
     "data": {
      "text/plain": [
       "['Nazmul', 1.2]"
      ]
     },
     "execution_count": 15,
     "metadata": {},
     "output_type": "execute_result"
    }
   ],
   "source": [
    "L1[0:2]"
   ]
  },
  {
   "cell_type": "code",
   "execution_count": 16,
   "id": "7c532a71",
   "metadata": {},
   "outputs": [
    {
     "data": {
      "text/plain": [
       "('Nazmul', 1.2, 56, (6+8j))"
      ]
     },
     "execution_count": 16,
     "metadata": {},
     "output_type": "execute_result"
    }
   ],
   "source": [
    "t1"
   ]
  },
  {
   "cell_type": "code",
   "execution_count": 17,
   "id": "64e78ee8",
   "metadata": {},
   "outputs": [
    {
     "data": {
      "text/plain": [
       "('Nazmul', 1.2)"
      ]
     },
     "execution_count": 17,
     "metadata": {},
     "output_type": "execute_result"
    }
   ],
   "source": [
    "t1[0:2]"
   ]
  },
  {
   "cell_type": "code",
   "execution_count": 19,
   "id": "6f05dcd7",
   "metadata": {},
   "outputs": [
    {
     "data": {
      "text/plain": [
       "((6+8j), 56, 1.2, 'Nazmul')"
      ]
     },
     "execution_count": 19,
     "metadata": {},
     "output_type": "execute_result"
    }
   ],
   "source": [
    "#Reverse order\n",
    "t1[::-1]"
   ]
  },
  {
   "cell_type": "code",
   "execution_count": 20,
   "id": "50c6c99a",
   "metadata": {},
   "outputs": [
    {
     "data": {
      "text/plain": [
       "[(6+8j), 56, 1.2, 'Nazmul']"
      ]
     },
     "execution_count": 20,
     "metadata": {},
     "output_type": "execute_result"
    }
   ],
   "source": [
    "L1[::-1]"
   ]
  },
  {
   "cell_type": "code",
   "execution_count": 21,
   "id": "168b74be",
   "metadata": {},
   "outputs": [
    {
     "data": {
      "text/plain": [
       "(6+8j)"
      ]
     },
     "execution_count": 21,
     "metadata": {},
     "output_type": "execute_result"
    }
   ],
   "source": [
    "#Last item\n",
    "t1[-1]"
   ]
  },
  {
   "cell_type": "code",
   "execution_count": 22,
   "id": "0474d728",
   "metadata": {},
   "outputs": [
    {
     "data": {
      "text/plain": [
       "(6+8j)"
      ]
     },
     "execution_count": 22,
     "metadata": {},
     "output_type": "execute_result"
    }
   ],
   "source": [
    "L1[-1]"
   ]
  },
  {
   "cell_type": "code",
   "execution_count": 23,
   "id": "a5317c51",
   "metadata": {},
   "outputs": [],
   "source": [
    "#Slicing wise its same for string,list and tuple"
   ]
  },
  {
   "cell_type": "code",
   "execution_count": 25,
   "id": "97bc508f",
   "metadata": {},
   "outputs": [
    {
     "data": {
      "text/plain": [
       "['Nazmul', 56]"
      ]
     },
     "execution_count": 25,
     "metadata": {},
     "output_type": "execute_result"
    }
   ],
   "source": [
    "#Jump \n",
    "L1[::2]"
   ]
  },
  {
   "cell_type": "code",
   "execution_count": 26,
   "id": "9803bb18",
   "metadata": {},
   "outputs": [
    {
     "data": {
      "text/plain": [
       "('Nazmul', 56)"
      ]
     },
     "execution_count": 26,
     "metadata": {},
     "output_type": "execute_result"
    }
   ],
   "source": [
    "t1[::2]"
   ]
  },
  {
   "cell_type": "code",
   "execution_count": null,
   "id": "d6d84781",
   "metadata": {},
   "outputs": [],
   "source": []
  },
  {
   "cell_type": "code",
   "execution_count": 32,
   "id": "2fbd0b14",
   "metadata": {},
   "outputs": [],
   "source": [
    "## ITEM REASSIGNMENT IS DIFFERENT IN LIST AND TUPLE"
   ]
  },
  {
   "cell_type": "code",
   "execution_count": 33,
   "id": "ea68c9ff",
   "metadata": {},
   "outputs": [
    {
     "data": {
      "text/plain": [
       "['Nazmul', 1.2, 56, (6+8j)]"
      ]
     },
     "execution_count": 33,
     "metadata": {},
     "output_type": "execute_result"
    }
   ],
   "source": [
    "L1"
   ]
  },
  {
   "cell_type": "code",
   "execution_count": 34,
   "id": "8525f79e",
   "metadata": {},
   "outputs": [
    {
     "data": {
      "text/plain": [
       "[4, 5, 6]"
      ]
     },
     "execution_count": 34,
     "metadata": {},
     "output_type": "execute_result"
    }
   ],
   "source": [
    "L2=[4,5,6]\n",
    "L2"
   ]
  },
  {
   "cell_type": "code",
   "execution_count": 37,
   "id": "6303f0ef",
   "metadata": {},
   "outputs": [],
   "source": [
    "L2[0] = \"BD\" #item reassignment ,"
   ]
  },
  {
   "cell_type": "code",
   "execution_count": 38,
   "id": "d5459a95",
   "metadata": {},
   "outputs": [
    {
     "data": {
      "text/plain": [
       "['BD', 5, 6]"
      ]
     },
     "execution_count": 38,
     "metadata": {},
     "output_type": "execute_result"
    }
   ],
   "source": [
    "L2"
   ]
  },
  {
   "cell_type": "code",
   "execution_count": 39,
   "id": "be892a4e",
   "metadata": {},
   "outputs": [
    {
     "data": {
      "text/plain": [
       "('Nazmul', 1.2, 56, (6+8j))"
      ]
     },
     "execution_count": 39,
     "metadata": {},
     "output_type": "execute_result"
    }
   ],
   "source": [
    "t1"
   ]
  },
  {
   "cell_type": "code",
   "execution_count": 43,
   "id": "3abd1464",
   "metadata": {},
   "outputs": [
    {
     "ename": "TypeError",
     "evalue": "'tuple' object does not support item assignment",
     "output_type": "error",
     "traceback": [
      "\u001b[1;31m---------------------------------------------------------------------------\u001b[0m",
      "\u001b[1;31mTypeError\u001b[0m                                 Traceback (most recent call last)",
      "\u001b[1;32m<ipython-input-43-e8bc3333a9da>\u001b[0m in \u001b[0;36m<module>\u001b[1;34m\u001b[0m\n\u001b[1;32m----> 1\u001b[1;33m \u001b[0mt1\u001b[0m\u001b[1;33m[\u001b[0m\u001b[1;36m0\u001b[0m\u001b[1;33m]\u001b[0m \u001b[1;33m=\u001b[0m \u001b[1;34m\"BD\"\u001b[0m  \u001b[1;31m# Tuple we cant assign item , immutable(Not changable), similar as string\u001b[0m\u001b[1;33m\u001b[0m\u001b[1;33m\u001b[0m\u001b[0m\n\u001b[0m",
      "\u001b[1;31mTypeError\u001b[0m: 'tuple' object does not support item assignment"
     ]
    }
   ],
   "source": [
    "t1[0] = \"BD\"  # Tuple we cant assign item , immutable(Not changable), similar as string"
   ]
  },
  {
   "cell_type": "code",
   "execution_count": 44,
   "id": "71f43262",
   "metadata": {},
   "outputs": [],
   "source": [
    "s1=\"Nazmul\""
   ]
  },
  {
   "cell_type": "code",
   "execution_count": 46,
   "id": "0170230e",
   "metadata": {},
   "outputs": [
    {
     "ename": "TypeError",
     "evalue": "'str' object does not support item assignment",
     "output_type": "error",
     "traceback": [
      "\u001b[1;31m---------------------------------------------------------------------------\u001b[0m",
      "\u001b[1;31mTypeError\u001b[0m                                 Traceback (most recent call last)",
      "\u001b[1;32m<ipython-input-46-4cf2f0111460>\u001b[0m in \u001b[0;36m<module>\u001b[1;34m\u001b[0m\n\u001b[1;32m----> 1\u001b[1;33m \u001b[0ms1\u001b[0m\u001b[1;33m[\u001b[0m\u001b[1;36m0\u001b[0m\u001b[1;33m]\u001b[0m\u001b[1;33m=\u001b[0m\u001b[1;34m\"VVB\"\u001b[0m\u001b[1;33m\u001b[0m\u001b[1;33m\u001b[0m\u001b[0m\n\u001b[0m",
      "\u001b[1;31mTypeError\u001b[0m: 'str' object does not support item assignment"
     ]
    }
   ],
   "source": [
    "s1[0]=\"VVB\""
   ]
  },
  {
   "cell_type": "code",
   "execution_count": 59,
   "id": "e23993ae",
   "metadata": {},
   "outputs": [],
   "source": [
    "#Concatanation operation is same for list tuple and string"
   ]
  },
  {
   "cell_type": "code",
   "execution_count": 79,
   "id": "f64e7b32",
   "metadata": {},
   "outputs": [],
   "source": [
    " #append, extend for list possible, But in tuple not possible"
   ]
  },
  {
   "cell_type": "code",
   "execution_count": 60,
   "id": "fcb9283c",
   "metadata": {},
   "outputs": [
    {
     "data": {
      "text/plain": [
       "('Nazmul', 1.2, 56, (6+8j))"
      ]
     },
     "execution_count": 60,
     "metadata": {},
     "output_type": "execute_result"
    }
   ],
   "source": [
    "t1"
   ]
  },
  {
   "cell_type": "code",
   "execution_count": 61,
   "id": "c4997086",
   "metadata": {},
   "outputs": [
    {
     "data": {
      "text/plain": [
       "(42, 23, 998)"
      ]
     },
     "execution_count": 61,
     "metadata": {},
     "output_type": "execute_result"
    }
   ],
   "source": [
    "t2 =(42,23,998)\n",
    "t2"
   ]
  },
  {
   "cell_type": "code",
   "execution_count": 62,
   "id": "b4a73495",
   "metadata": {},
   "outputs": [
    {
     "data": {
      "text/plain": [
       "('Nazmul', 1.2, 56, (6+8j), 42, 23, 998)"
      ]
     },
     "execution_count": 62,
     "metadata": {},
     "output_type": "execute_result"
    }
   ],
   "source": [
    "t1+t2"
   ]
  },
  {
   "cell_type": "code",
   "execution_count": 63,
   "id": "7ea5cb9e",
   "metadata": {},
   "outputs": [
    {
     "data": {
      "text/plain": [
       "['Nazmul', 1.2, 56, (6+8j)]"
      ]
     },
     "execution_count": 63,
     "metadata": {},
     "output_type": "execute_result"
    }
   ],
   "source": [
    "L1"
   ]
  },
  {
   "cell_type": "code",
   "execution_count": 64,
   "id": "a4dd2508",
   "metadata": {},
   "outputs": [
    {
     "data": {
      "text/plain": [
       "['BD', 5, 6]"
      ]
     },
     "execution_count": 64,
     "metadata": {},
     "output_type": "execute_result"
    }
   ],
   "source": [
    "L2"
   ]
  },
  {
   "cell_type": "code",
   "execution_count": 65,
   "id": "1660537b",
   "metadata": {},
   "outputs": [
    {
     "data": {
      "text/plain": [
       "['Nazmul', 1.2, 56, (6+8j), 'BD', 5, 6]"
      ]
     },
     "execution_count": 65,
     "metadata": {},
     "output_type": "execute_result"
    }
   ],
   "source": [
    "L1+L2"
   ]
  },
  {
   "cell_type": "code",
   "execution_count": 66,
   "id": "a2f30c6a",
   "metadata": {},
   "outputs": [
    {
     "data": {
      "text/plain": [
       "'Nazmul'"
      ]
     },
     "execution_count": 66,
     "metadata": {},
     "output_type": "execute_result"
    }
   ],
   "source": [
    "s1=\"Nazmul\"\n",
    "s1"
   ]
  },
  {
   "cell_type": "code",
   "execution_count": 67,
   "id": "148dba44",
   "metadata": {},
   "outputs": [],
   "source": [
    "s2=\"ISLAM\""
   ]
  },
  {
   "cell_type": "code",
   "execution_count": 68,
   "id": "16634599",
   "metadata": {},
   "outputs": [
    {
     "data": {
      "text/plain": [
       "'NazmulISLAM'"
      ]
     },
     "execution_count": 68,
     "metadata": {},
     "output_type": "execute_result"
    }
   ],
   "source": [
    "s1+s2"
   ]
  },
  {
   "cell_type": "code",
   "execution_count": 71,
   "id": "dececeab",
   "metadata": {},
   "outputs": [],
   "source": [
    "#Multiplication operation is same, repeat same element"
   ]
  },
  {
   "cell_type": "code",
   "execution_count": 72,
   "id": "3eeae1d9",
   "metadata": {},
   "outputs": [
    {
     "data": {
      "text/plain": [
       "('Nazmul', 1.2, 56, (6+8j))"
      ]
     },
     "execution_count": 72,
     "metadata": {},
     "output_type": "execute_result"
    }
   ],
   "source": [
    "t1"
   ]
  },
  {
   "cell_type": "code",
   "execution_count": 73,
   "id": "9ff471f3",
   "metadata": {},
   "outputs": [
    {
     "data": {
      "text/plain": [
       "('Nazmul', 1.2, 56, (6+8j), 'Nazmul', 1.2, 56, (6+8j))"
      ]
     },
     "execution_count": 73,
     "metadata": {},
     "output_type": "execute_result"
    }
   ],
   "source": [
    "t1*2"
   ]
  },
  {
   "cell_type": "code",
   "execution_count": 74,
   "id": "3b91651c",
   "metadata": {},
   "outputs": [
    {
     "data": {
      "text/plain": [
       "['BD', 5, 6]"
      ]
     },
     "execution_count": 74,
     "metadata": {},
     "output_type": "execute_result"
    }
   ],
   "source": [
    "L2"
   ]
  },
  {
   "cell_type": "code",
   "execution_count": 75,
   "id": "9d784cb0",
   "metadata": {},
   "outputs": [
    {
     "data": {
      "text/plain": [
       "['BD', 5, 6, 'BD', 5, 6]"
      ]
     },
     "execution_count": 75,
     "metadata": {},
     "output_type": "execute_result"
    }
   ],
   "source": [
    "L2*2"
   ]
  },
  {
   "cell_type": "code",
   "execution_count": 76,
   "id": "36c1f4ab",
   "metadata": {},
   "outputs": [
    {
     "data": {
      "text/plain": [
       "'Nazmul'"
      ]
     },
     "execution_count": 76,
     "metadata": {},
     "output_type": "execute_result"
    }
   ],
   "source": [
    "s1"
   ]
  },
  {
   "cell_type": "code",
   "execution_count": 77,
   "id": "dbae6efe",
   "metadata": {},
   "outputs": [
    {
     "data": {
      "text/plain": [
       "'NazmulNazmul'"
      ]
     },
     "execution_count": 77,
     "metadata": {},
     "output_type": "execute_result"
    }
   ],
   "source": [
    "s1*2"
   ]
  },
  {
   "cell_type": "code",
   "execution_count": 78,
   "id": "12a43af3",
   "metadata": {},
   "outputs": [],
   "source": [
    "# Inbuild function in tuple"
   ]
  },
  {
   "cell_type": "code",
   "execution_count": null,
   "id": "fc4c6023",
   "metadata": {},
   "outputs": [],
   "source": [
    "t1."
   ]
  },
  {
   "cell_type": "code",
   "execution_count": null,
   "id": "29d751cb",
   "metadata": {},
   "outputs": [],
   "source": [
    "L1."
   ]
  },
  {
   "cell_type": "code",
   "execution_count": 80,
   "id": "804fea43",
   "metadata": {},
   "outputs": [
    {
     "data": {
      "text/plain": [
       "('Nazmul', 1.2, 56, (6+8j))"
      ]
     },
     "execution_count": 80,
     "metadata": {},
     "output_type": "execute_result"
    }
   ],
   "source": [
    "t1"
   ]
  },
  {
   "cell_type": "code",
   "execution_count": 82,
   "id": "ae2c4d2a",
   "metadata": {},
   "outputs": [
    {
     "data": {
      "text/plain": [
       "1"
      ]
     },
     "execution_count": 82,
     "metadata": {},
     "output_type": "execute_result"
    }
   ],
   "source": [
    "t1.count(1.2) #no of occurances in a perticular things"
   ]
  },
  {
   "cell_type": "code",
   "execution_count": 84,
   "id": "4b806f58",
   "metadata": {},
   "outputs": [
    {
     "data": {
      "text/plain": [
       "2"
      ]
     },
     "execution_count": 84,
     "metadata": {},
     "output_type": "execute_result"
    }
   ],
   "source": [
    "t1.index(56) # gives the indexes"
   ]
  },
  {
   "cell_type": "code",
   "execution_count": 87,
   "id": "07025218",
   "metadata": {},
   "outputs": [],
   "source": [
    "#When tuple\n",
    "#- Password ,(immutable, bank account)\n",
    "#database all are tuple, "
   ]
  },
  {
   "cell_type": "code",
   "execution_count": 88,
   "id": "9a6b0719",
   "metadata": {},
   "outputs": [],
   "source": [
    "#when list"
   ]
  },
  {
   "cell_type": "code",
   "execution_count": 1,
   "id": "be052a2f",
   "metadata": {},
   "outputs": [],
   "source": [
    "t=(1,2,3,(1,2,\"s\"))"
   ]
  },
  {
   "cell_type": "code",
   "execution_count": 2,
   "id": "51808207",
   "metadata": {},
   "outputs": [
    {
     "data": {
      "text/plain": [
       "(1, 2, 3, (1, 2, 's'))"
      ]
     },
     "execution_count": 2,
     "metadata": {},
     "output_type": "execute_result"
    }
   ],
   "source": [
    "t"
   ]
  },
  {
   "cell_type": "code",
   "execution_count": 3,
   "id": "226b41fc",
   "metadata": {},
   "outputs": [],
   "source": [
    "t=([1,2,4,5,6],7.8,9,\"Nazh\")"
   ]
  },
  {
   "cell_type": "code",
   "execution_count": 4,
   "id": "fce55b26",
   "metadata": {},
   "outputs": [
    {
     "data": {
      "text/plain": [
       "([1, 2, 4, 5, 6], 7.8, 9, 'Nazh')"
      ]
     },
     "execution_count": 4,
     "metadata": {},
     "output_type": "execute_result"
    }
   ],
   "source": [
    "t"
   ]
  },
  {
   "cell_type": "code",
   "execution_count": 7,
   "id": "10e2b460",
   "metadata": {},
   "outputs": [
    {
     "data": {
      "text/plain": [
       "1"
      ]
     },
     "execution_count": 7,
     "metadata": {},
     "output_type": "execute_result"
    }
   ],
   "source": [
    "t[0][0]"
   ]
  },
  {
   "cell_type": "code",
   "execution_count": 8,
   "id": "13647bc8",
   "metadata": {},
   "outputs": [],
   "source": [
    "t[0][0] =\"Nazh\""
   ]
  },
  {
   "cell_type": "code",
   "execution_count": 12,
   "id": "69ce8fba",
   "metadata": {},
   "outputs": [
    {
     "data": {
      "text/plain": [
       "(['Nazh', 2, 4, 5, 6], 7.8, 9, 'Nazh')"
      ]
     },
     "execution_count": 12,
     "metadata": {},
     "output_type": "execute_result"
    }
   ],
   "source": [
    "t #inside tuple if there is a list you can change it as list is a mutable entity"
   ]
  },
  {
   "cell_type": "code",
   "execution_count": 13,
   "id": "bea90982",
   "metadata": {},
   "outputs": [
    {
     "ename": "TypeError",
     "evalue": "'tuple' object does not support item assignment",
     "output_type": "error",
     "traceback": [
      "\u001b[1;31m---------------------------------------------------------------------------\u001b[0m",
      "\u001b[1;31mTypeError\u001b[0m                                 Traceback (most recent call last)",
      "\u001b[1;32m<ipython-input-13-af65898e9b57>\u001b[0m in \u001b[0;36m<module>\u001b[1;34m\u001b[0m\n\u001b[1;32m----> 1\u001b[1;33m \u001b[0mt\u001b[0m\u001b[1;33m[\u001b[0m\u001b[1;36m0\u001b[0m\u001b[1;33m]\u001b[0m\u001b[1;33m=\u001b[0m\u001b[1;34m\"NNN\"\u001b[0m\u001b[1;33m\u001b[0m\u001b[1;33m\u001b[0m\u001b[0m\n\u001b[0m",
      "\u001b[1;31mTypeError\u001b[0m: 'tuple' object does not support item assignment"
     ]
    }
   ],
   "source": [
    "t[0]=\"NNN\""
   ]
  },
  {
   "cell_type": "code",
   "execution_count": 14,
   "id": "0d6e52e8",
   "metadata": {},
   "outputs": [
    {
     "data": {
      "text/plain": [
       "(53, 345, 56, 56)"
      ]
     },
     "execution_count": 14,
     "metadata": {},
     "output_type": "execute_result"
    }
   ],
   "source": [
    "t1=(53,345,56,56)\n",
    "t1"
   ]
  },
  {
   "cell_type": "code",
   "execution_count": 19,
   "id": "cf50fed7",
   "metadata": {},
   "outputs": [],
   "source": [
    "l=list(t1)   # tuple to list conversion"
   ]
  },
  {
   "cell_type": "code",
   "execution_count": 20,
   "id": "59cd2b53",
   "metadata": {},
   "outputs": [
    {
     "data": {
      "text/plain": [
       "[53, 345, 56, 56]"
      ]
     },
     "execution_count": 20,
     "metadata": {},
     "output_type": "execute_result"
    }
   ],
   "source": [
    "l"
   ]
  },
  {
   "cell_type": "code",
   "execution_count": 21,
   "id": "b38f76a5",
   "metadata": {},
   "outputs": [],
   "source": [
    "t=tuple(l)"
   ]
  },
  {
   "cell_type": "code",
   "execution_count": 22,
   "id": "63a125c8",
   "metadata": {},
   "outputs": [
    {
     "data": {
      "text/plain": [
       "(53, 345, 56, 56)"
      ]
     },
     "execution_count": 22,
     "metadata": {},
     "output_type": "execute_result"
    }
   ],
   "source": [
    "t  # lst and tuple conversion possible"
   ]
  },
  {
   "cell_type": "code",
   "execution_count": 23,
   "id": "357a163c",
   "metadata": {},
   "outputs": [],
   "source": [
    "l=[1,2,3,4,5,5,5,5,5,5,5,5,5,6,12,1,2,3,4,5,5555,333] "
   ]
  },
  {
   "cell_type": "markdown",
   "id": "58332317",
   "metadata": {},
   "source": [
    "##### xan you please remove all the duplicates?\n",
    "#### Can you give all the unique list\n",
    "##### total unique elemts\n",
    "\n",
    "solution: # we need set"
   ]
  },
  {
   "cell_type": "code",
   "execution_count": 25,
   "id": "584b5683",
   "metadata": {},
   "outputs": [
    {
     "data": {
      "text/plain": [
       "{1, 2, 3, 4, 5, 6, 12, 333, 5555}"
      ]
     },
     "execution_count": 25,
     "metadata": {},
     "output_type": "execute_result"
    }
   ],
   "source": [
    "set(l)"
   ]
  },
  {
   "cell_type": "code",
   "execution_count": 28,
   "id": "855f9b95",
   "metadata": {},
   "outputs": [],
   "source": [
    "s={1,2,3,3,5.4,\"GGG\"} # no duplicates"
   ]
  },
  {
   "cell_type": "code",
   "execution_count": 29,
   "id": "85deb76e",
   "metadata": {},
   "outputs": [
    {
     "data": {
      "text/plain": [
       "{1, 2, 3, 5.4, 'GGG'}"
      ]
     },
     "execution_count": 29,
     "metadata": {},
     "output_type": "execute_result"
    }
   ],
   "source": [
    "s"
   ]
  },
  {
   "cell_type": "code",
   "execution_count": 30,
   "id": "702a6e66",
   "metadata": {},
   "outputs": [
    {
     "data": {
      "text/plain": [
       "set"
      ]
     },
     "execution_count": 30,
     "metadata": {},
     "output_type": "execute_result"
    }
   ],
   "source": [
    "type(s)"
   ]
  },
  {
   "cell_type": "code",
   "execution_count": 33,
   "id": "2bd9b9c0",
   "metadata": {},
   "outputs": [],
   "source": [
    "s={}  #empty set is here gives dictionar"
   ]
  },
  {
   "cell_type": "code",
   "execution_count": 34,
   "id": "ca4eb22c",
   "metadata": {},
   "outputs": [
    {
     "data": {
      "text/plain": [
       "dict"
      ]
     },
     "execution_count": 34,
     "metadata": {},
     "output_type": "execute_result"
    }
   ],
   "source": [
    "type(s)"
   ]
  },
  {
   "cell_type": "code",
   "execution_count": 35,
   "id": "e3377ef9",
   "metadata": {},
   "outputs": [
    {
     "data": {
      "text/plain": [
       "set"
      ]
     },
     "execution_count": 35,
     "metadata": {},
     "output_type": "execute_result"
    }
   ],
   "source": [
    "s={1.3,4,5,6}\n",
    "type(s)"
   ]
  },
  {
   "cell_type": "code",
   "execution_count": 1,
   "id": "8f74283b",
   "metadata": {},
   "outputs": [
    {
     "data": {
      "text/plain": [
       "{1, 2, 3, 34, 4, 5, 65, 'fg'}"
      ]
     },
     "execution_count": 1,
     "metadata": {},
     "output_type": "execute_result"
    }
   ],
   "source": [
    "s1={1,2,3,4,5,5,5,5,5,5,5,5,5,5,5,5,5,65,34,\"fg\"}\n",
    "s1"
   ]
  },
  {
   "cell_type": "code",
   "execution_count": 3,
   "id": "37e6c790",
   "metadata": {},
   "outputs": [
    {
     "ename": "TypeError",
     "evalue": "'set' object is not subscriptable",
     "output_type": "error",
     "traceback": [
      "\u001b[1;31m---------------------------------------------------------------------------\u001b[0m",
      "\u001b[1;31mTypeError\u001b[0m                                 Traceback (most recent call last)",
      "\u001b[1;32m<ipython-input-3-ff0876e1b1ce>\u001b[0m in \u001b[0;36m<module>\u001b[1;34m\u001b[0m\n\u001b[1;32m----> 1\u001b[1;33m \u001b[0ms1\u001b[0m\u001b[1;33m[\u001b[0m\u001b[1;36m0\u001b[0m\u001b[1;33m]\u001b[0m \u001b[1;31m#set is not ordereded\u001b[0m\u001b[1;33m\u001b[0m\u001b[1;33m\u001b[0m\u001b[0m\n\u001b[0m",
      "\u001b[1;31mTypeError\u001b[0m: 'set' object is not subscriptable"
     ]
    }
   ],
   "source": [
    "s1[0] #set is not ordereded"
   ]
  },
  {
   "cell_type": "code",
   "execution_count": 4,
   "id": "8a78ef5f",
   "metadata": {},
   "outputs": [],
   "source": [
    "#inbuild function of set\n"
   ]
  },
  {
   "cell_type": "code",
   "execution_count": 7,
   "id": "837832ec",
   "metadata": {},
   "outputs": [
    {
     "ename": "SyntaxError",
     "evalue": "invalid syntax (<ipython-input-7-a605ecc82e54>, line 1)",
     "output_type": "error",
     "traceback": [
      "\u001b[1;36m  File \u001b[1;32m\"<ipython-input-7-a605ecc82e54>\"\u001b[1;36m, line \u001b[1;32m1\u001b[0m\n\u001b[1;33m    s1.\u001b[0m\n\u001b[1;37m       ^\u001b[0m\n\u001b[1;31mSyntaxError\u001b[0m\u001b[1;31m:\u001b[0m invalid syntax\n"
     ]
    }
   ],
   "source": [
    "s1."
   ]
  },
  {
   "cell_type": "code",
   "execution_count": 8,
   "id": "9d66d8ee",
   "metadata": {},
   "outputs": [],
   "source": [
    "s1.add(52255)"
   ]
  },
  {
   "cell_type": "code",
   "execution_count": 9,
   "id": "5d96614f",
   "metadata": {},
   "outputs": [
    {
     "data": {
      "text/plain": [
       "{1, 2, 3, 34, 4, 5, 52255, 65, 'fg'}"
      ]
     },
     "execution_count": 9,
     "metadata": {},
     "output_type": "execute_result"
    }
   ],
   "source": [
    "s1"
   ]
  },
  {
   "cell_type": "code",
   "execution_count": 10,
   "id": "dba6c2cc",
   "metadata": {},
   "outputs": [
    {
     "data": {
      "text/plain": [
       "{1, 2, 3, 34, 4, 5, 52255, 65, 'dfdfdf', 'fg'}"
      ]
     },
     "execution_count": 10,
     "metadata": {},
     "output_type": "execute_result"
    }
   ],
   "source": [
    "s1.add(\"dfdfdf\")\n",
    "s1"
   ]
  },
  {
   "cell_type": "code",
   "execution_count": 12,
   "id": "eb7e19f7",
   "metadata": {},
   "outputs": [
    {
     "ename": "TypeError",
     "evalue": "unhashable type: 'list'",
     "output_type": "error",
     "traceback": [
      "\u001b[1;31m---------------------------------------------------------------------------\u001b[0m",
      "\u001b[1;31mTypeError\u001b[0m                                 Traceback (most recent call last)",
      "\u001b[1;32m<ipython-input-12-6eb4a4b152aa>\u001b[0m in \u001b[0;36m<module>\u001b[1;34m\u001b[0m\n\u001b[1;32m----> 1\u001b[1;33m \u001b[0ms1\u001b[0m\u001b[1;33m.\u001b[0m\u001b[0madd\u001b[0m\u001b[1;33m(\u001b[0m\u001b[1;33m[\u001b[0m\u001b[1;36m1\u001b[0m\u001b[1;33m,\u001b[0m\u001b[1;36m6\u001b[0m\u001b[1;33m,\u001b[0m\u001b[1;36m7\u001b[0m\u001b[1;33m]\u001b[0m\u001b[1;33m)\u001b[0m \u001b[1;31m# not able to host list inside set\u001b[0m\u001b[1;33m\u001b[0m\u001b[1;33m\u001b[0m\u001b[0m\n\u001b[0m",
      "\u001b[1;31mTypeError\u001b[0m: unhashable type: 'list'"
     ]
    }
   ],
   "source": [
    "s1.add([1,6,7]) # not able to host list inside set"
   ]
  },
  {
   "cell_type": "code",
   "execution_count": 13,
   "id": "e191fdf0",
   "metadata": {},
   "outputs": [
    {
     "ename": "TypeError",
     "evalue": "unhashable type: 'list'",
     "output_type": "error",
     "traceback": [
      "\u001b[1;31m---------------------------------------------------------------------------\u001b[0m",
      "\u001b[1;31mTypeError\u001b[0m                                 Traceback (most recent call last)",
      "\u001b[1;32m<ipython-input-13-9d342f2b4f5b>\u001b[0m in \u001b[0;36m<module>\u001b[1;34m\u001b[0m\n\u001b[1;32m----> 1\u001b[1;33m \u001b[0ms2\u001b[0m\u001b[1;33m=\u001b[0m\u001b[1;33m{\u001b[0m\u001b[1;36m1\u001b[0m\u001b[1;33m,\u001b[0m\u001b[1;36m22\u001b[0m\u001b[1;33m,\u001b[0m\u001b[1;34m\"hjhjh\"\u001b[0m\u001b[1;33m,\u001b[0m\u001b[1;33m[\u001b[0m\u001b[1;36m5\u001b[0m\u001b[1;33m,\u001b[0m\u001b[1;36m6\u001b[0m\u001b[1;33m,\u001b[0m\u001b[1;36m7\u001b[0m\u001b[1;33m]\u001b[0m\u001b[1;33m}\u001b[0m\u001b[1;33m\u001b[0m\u001b[1;33m\u001b[0m\u001b[0m\n\u001b[0m",
      "\u001b[1;31mTypeError\u001b[0m: unhashable type: 'list'"
     ]
    }
   ],
   "source": [
    "s2={1,22,\"hjhjh\",[5,6,7]}"
   ]
  },
  {
   "cell_type": "markdown",
   "id": "0ab36616",
   "metadata": {},
   "source": [
    "https://pythonexamples.org/python-which-type-of-objects-are-hashable/"
   ]
  },
  {
   "cell_type": "code",
   "execution_count": 14,
   "id": "5ad4041d",
   "metadata": {},
   "outputs": [],
   "source": [
    "# why it didnt host list because set is a ordered collection of unique element\n",
    "# |It will try to find uniqueness in primitive data set not sequence"
   ]
  },
  {
   "cell_type": "code",
   "execution_count": 17,
   "id": "d2fe8f70",
   "metadata": {},
   "outputs": [],
   "source": [
    "s2={1,2,3,(1,2,3,4)}  # tuple allowed"
   ]
  },
  {
   "cell_type": "code",
   "execution_count": 18,
   "id": "90dd796e",
   "metadata": {},
   "outputs": [
    {
     "data": {
      "text/plain": [
       "{(1, 2, 3, 4), 1, 2, 3}"
      ]
     },
     "execution_count": 18,
     "metadata": {},
     "output_type": "execute_result"
    }
   ],
   "source": [
    "s2"
   ]
  },
  {
   "cell_type": "code",
   "execution_count": 19,
   "id": "30150e6b",
   "metadata": {},
   "outputs": [
    {
     "data": {
      "text/plain": [
       "{(1, 2, 2, 2, 2, 2, 3, 4), 1, 2, 3}"
      ]
     },
     "execution_count": 19,
     "metadata": {},
     "output_type": "execute_result"
    }
   ],
   "source": [
    "s2={1,2,3,(1,2,2,2,2,2,3,4)}\n",
    "s2"
   ]
  },
  {
   "cell_type": "code",
   "execution_count": 24,
   "id": "26d92a1e",
   "metadata": {},
   "outputs": [
    {
     "data": {
      "text/plain": [
       "{(1, 2, 4), 1, 2, 3}"
      ]
     },
     "execution_count": 24,
     "metadata": {},
     "output_type": "execute_result"
    }
   ],
   "source": [
    "s2={1,2,3,(1,2,4),(1,2,4)}\n",
    "s2"
   ]
  },
  {
   "cell_type": "code",
   "execution_count": 25,
   "id": "834187d5",
   "metadata": {},
   "outputs": [
    {
     "data": {
      "text/plain": [
       "{(1, 2, 4), 1, 2, 3}"
      ]
     },
     "execution_count": 25,
     "metadata": {},
     "output_type": "execute_result"
    }
   ],
   "source": [
    "s2"
   ]
  },
  {
   "cell_type": "code",
   "execution_count": 26,
   "id": "a0332231",
   "metadata": {},
   "outputs": [
    {
     "data": {
      "text/plain": [
       "{(1, 2, 4), 1, 3}"
      ]
     },
     "execution_count": 26,
     "metadata": {},
     "output_type": "execute_result"
    }
   ],
   "source": [
    "s2.remove(2) # remove the element\n",
    "s2"
   ]
  },
  {
   "cell_type": "code",
   "execution_count": 27,
   "id": "8a4acb43",
   "metadata": {},
   "outputs": [],
   "source": [
    "s2.discard(3)"
   ]
  },
  {
   "cell_type": "code",
   "execution_count": 28,
   "id": "ce2f5625",
   "metadata": {},
   "outputs": [
    {
     "data": {
      "text/plain": [
       "{(1, 2, 4), 1}"
      ]
     },
     "execution_count": 28,
     "metadata": {},
     "output_type": "execute_result"
    }
   ],
   "source": [
    "s2"
   ]
  },
  {
   "cell_type": "code",
   "execution_count": 29,
   "id": "acbe2699",
   "metadata": {},
   "outputs": [
    {
     "data": {
      "text/plain": [
       "{(1, 2, 4), 1}"
      ]
     },
     "execution_count": 29,
     "metadata": {},
     "output_type": "execute_result"
    }
   ],
   "source": [
    "s2"
   ]
  },
  {
   "cell_type": "code",
   "execution_count": 30,
   "id": "bdbaddab",
   "metadata": {},
   "outputs": [
    {
     "ename": "KeyError",
     "evalue": "45",
     "output_type": "error",
     "traceback": [
      "\u001b[1;31m---------------------------------------------------------------------------\u001b[0m",
      "\u001b[1;31mKeyError\u001b[0m                                  Traceback (most recent call last)",
      "\u001b[1;32m<ipython-input-30-e957ac5f4bb5>\u001b[0m in \u001b[0;36m<module>\u001b[1;34m\u001b[0m\n\u001b[1;32m----> 1\u001b[1;33m \u001b[0ms2\u001b[0m\u001b[1;33m.\u001b[0m\u001b[0mremove\u001b[0m\u001b[1;33m(\u001b[0m\u001b[1;36m45\u001b[0m\u001b[1;33m)\u001b[0m\u001b[1;33m\u001b[0m\u001b[1;33m\u001b[0m\u001b[0m\n\u001b[0m",
      "\u001b[1;31mKeyError\u001b[0m: 45"
     ]
    }
   ],
   "source": [
    "s2.remove(45)"
   ]
  },
  {
   "cell_type": "code",
   "execution_count": 31,
   "id": "397d44d9",
   "metadata": {},
   "outputs": [],
   "source": [
    "s2.discard(45)  "
   ]
  },
  {
   "cell_type": "code",
   "execution_count": 32,
   "id": "a2b1d419",
   "metadata": {},
   "outputs": [
    {
     "data": {
      "text/plain": [
       "{(1, 2, 4), 1}"
      ]
     },
     "execution_count": 32,
     "metadata": {},
     "output_type": "execute_result"
    }
   ],
   "source": [
    "s2"
   ]
  },
  {
   "cell_type": "code",
   "execution_count": 33,
   "id": "880a6ee0",
   "metadata": {},
   "outputs": [],
   "source": [
    "# the difference between remove and discard is remove gives error while discard doesnt"
   ]
  },
  {
   "cell_type": "code",
   "execution_count": 34,
   "id": "a25e7acc",
   "metadata": {},
   "outputs": [],
   "source": [
    "#set is unordered, hence you cant change as wise indexes"
   ]
  },
  {
   "cell_type": "code",
   "execution_count": 35,
   "id": "2389ccc7",
   "metadata": {},
   "outputs": [
    {
     "data": {
      "text/plain": [
       "{'Nazh'}"
      ]
     },
     "execution_count": 35,
     "metadata": {},
     "output_type": "execute_result"
    }
   ],
   "source": [
    "s2={\"Nazh\", \"Nazh\"}\n",
    "s2"
   ]
  },
  {
   "cell_type": "code",
   "execution_count": 36,
   "id": "4e684758",
   "metadata": {},
   "outputs": [
    {
     "data": {
      "text/plain": [
       "{'Nazh', 'nazh'}"
      ]
     },
     "execution_count": 36,
     "metadata": {},
     "output_type": "execute_result"
    }
   ],
   "source": [
    "s2= {\"Nazh\", \"nazh\"}\n",
    "s2"
   ]
  },
  {
   "cell_type": "code",
   "execution_count": 37,
   "id": "21059406",
   "metadata": {},
   "outputs": [],
   "source": [
    "#### DICTIONARY"
   ]
  },
  {
   "cell_type": "code",
   "execution_count": 38,
   "id": "41dc304b",
   "metadata": {},
   "outputs": [],
   "source": [
    "d={}"
   ]
  },
  {
   "cell_type": "code",
   "execution_count": 39,
   "id": "0cfcc0cf",
   "metadata": {},
   "outputs": [
    {
     "data": {
      "text/plain": [
       "dict"
      ]
     },
     "execution_count": 39,
     "metadata": {},
     "output_type": "execute_result"
    }
   ],
   "source": [
    "type(d)"
   ]
  },
  {
   "cell_type": "code",
   "execution_count": 40,
   "id": "55cf13a5",
   "metadata": {},
   "outputs": [
    {
     "data": {
      "text/plain": [
       "set"
      ]
     },
     "execution_count": 40,
     "metadata": {},
     "output_type": "execute_result"
    }
   ],
   "source": [
    "d={3,4}\n",
    "type(d)"
   ]
  },
  {
   "cell_type": "code",
   "execution_count": 41,
   "id": "ff3700aa",
   "metadata": {},
   "outputs": [
    {
     "data": {
      "text/plain": [
       "{4: 'Nazmul'}"
      ]
     },
     "execution_count": 41,
     "metadata": {},
     "output_type": "execute_result"
    }
   ],
   "source": [
    "d={4:\"Nazmul\"} #key:4, value : \"Nazmul\"\n",
    "d"
   ]
  },
  {
   "cell_type": "code",
   "execution_count": 42,
   "id": "c624d587",
   "metadata": {},
   "outputs": [
    {
     "data": {
      "text/plain": [
       "dict"
      ]
     },
     "execution_count": 42,
     "metadata": {},
     "output_type": "execute_result"
    }
   ],
   "source": [
    "type(d)"
   ]
  },
  {
   "cell_type": "code",
   "execution_count": 45,
   "id": "17946286",
   "metadata": {},
   "outputs": [],
   "source": [
    "d1={\"Key1\" : 5445, \"key2\": \"Nazmul\", 45 :[1.2,2,4,5]}"
   ]
  },
  {
   "cell_type": "code",
   "execution_count": 46,
   "id": "458db32e",
   "metadata": {},
   "outputs": [
    {
     "data": {
      "text/plain": [
       "{'Key1': 5445, 'key2': 'Nazmul', 45: [1.2, 2, 4, 5]}"
      ]
     },
     "execution_count": 46,
     "metadata": {},
     "output_type": "execute_result"
    }
   ],
   "source": [
    "d1"
   ]
  },
  {
   "cell_type": "markdown",
   "id": "a8c018d3",
   "metadata": {},
   "source": [
    "For list internally the index is generated however, dict we create our own indexes."
   ]
  },
  {
   "cell_type": "code",
   "execution_count": 47,
   "id": "52e73735",
   "metadata": {},
   "outputs": [
    {
     "data": {
      "text/plain": [
       "{'Key1': 5445, 'key2': 'Nazmul', 45: [1.2, 2, 4, 5]}"
      ]
     },
     "execution_count": 47,
     "metadata": {},
     "output_type": "execute_result"
    }
   ],
   "source": [
    "d1"
   ]
  },
  {
   "cell_type": "code",
   "execution_count": 49,
   "id": "5b5fc14c",
   "metadata": {},
   "outputs": [
    {
     "data": {
      "text/plain": [
       "5445"
      ]
     },
     "execution_count": 49,
     "metadata": {},
     "output_type": "execute_result"
    }
   ],
   "source": [
    "d1[\"Key1\"]"
   ]
  },
  {
   "cell_type": "code",
   "execution_count": 50,
   "id": "b6b9a4e5",
   "metadata": {},
   "outputs": [
    {
     "data": {
      "text/plain": [
       "4"
      ]
     },
     "execution_count": 50,
     "metadata": {},
     "output_type": "execute_result"
    }
   ],
   "source": [
    "l=[3,4,5,4]\n",
    "l[1]"
   ]
  },
  {
   "cell_type": "code",
   "execution_count": 51,
   "id": "be5a9518",
   "metadata": {},
   "outputs": [
    {
     "data": {
      "text/plain": [
       "{'Key1': 5445, 'key2': 'Nazmul', 45: [1.2, 2, 4, 5]}"
      ]
     },
     "execution_count": 51,
     "metadata": {},
     "output_type": "execute_result"
    }
   ],
   "source": [
    "d1"
   ]
  },
  {
   "cell_type": "code",
   "execution_count": 52,
   "id": "6c3b193e",
   "metadata": {},
   "outputs": [
    {
     "data": {
      "text/plain": [
       "[1.2, 2, 4, 5]"
      ]
     },
     "execution_count": 52,
     "metadata": {},
     "output_type": "execute_result"
    }
   ],
   "source": [
    "d1[45]"
   ]
  },
  {
   "cell_type": "code",
   "execution_count": 54,
   "id": "a4cb6add",
   "metadata": {},
   "outputs": [
    {
     "data": {
      "text/plain": [
       "'Nazmul'"
      ]
     },
     "execution_count": 54,
     "metadata": {},
     "output_type": "execute_result"
    }
   ],
   "source": [
    "d1['key2']"
   ]
  },
  {
   "cell_type": "code",
   "execution_count": 55,
   "id": "22f3ede5",
   "metadata": {},
   "outputs": [
    {
     "data": {
      "text/plain": [
       "{3: ['dsfs', 'sdsd', 'sddsd']}"
      ]
     },
     "execution_count": 55,
     "metadata": {},
     "output_type": "execute_result"
    }
   ],
   "source": [
    "d={3: [\"dsfs\",\"sdsd\",\"sddsd\"]}\n",
    "d"
   ]
  },
  {
   "cell_type": "code",
   "execution_count": 57,
   "id": "5c6ae0fe",
   "metadata": {},
   "outputs": [
    {
     "ename": "SyntaxError",
     "evalue": "unexpected EOF while parsing (<ipython-input-57-b8aeff354780>, line 2)",
     "output_type": "error",
     "traceback": [
      "\u001b[1;36m  File \u001b[1;32m\"<ipython-input-57-b8aeff354780>\"\u001b[1;36m, line \u001b[1;32m2\u001b[0m\n\u001b[1;33m    d\u001b[0m\n\u001b[1;37m     ^\u001b[0m\n\u001b[1;31mSyntaxError\u001b[0m\u001b[1;31m:\u001b[0m unexpected EOF while parsing\n"
     ]
    }
   ],
   "source": [
    "d={#: [\"dsfs\",\"sdsd\",\"sddsd\"]} # sepcial case character wont work\n",
    "d"
   ]
  },
  {
   "cell_type": "code",
   "execution_count": 59,
   "id": "345d4c52",
   "metadata": {},
   "outputs": [
    {
     "ename": "NameError",
     "evalue": "name '_4' is not defined",
     "output_type": "error",
     "traceback": [
      "\u001b[1;31m---------------------------------------------------------------------------\u001b[0m",
      "\u001b[1;31mNameError\u001b[0m                                 Traceback (most recent call last)",
      "\u001b[1;32m<ipython-input-59-8a7194361be7>\u001b[0m in \u001b[0;36m<module>\u001b[1;34m\u001b[0m\n\u001b[1;32m----> 1\u001b[1;33m \u001b[0md\u001b[0m\u001b[1;33m=\u001b[0m\u001b[1;33m{\u001b[0m\u001b[0m_4\u001b[0m\u001b[1;33m:\u001b[0m \u001b[1;33m[\u001b[0m\u001b[1;34m\"dsfs\"\u001b[0m\u001b[1;33m,\u001b[0m\u001b[1;34m\"sdsd\"\u001b[0m\u001b[1;33m,\u001b[0m\u001b[1;34m\"sddsd\"\u001b[0m\u001b[1;33m]\u001b[0m\u001b[1;33m}\u001b[0m \u001b[1;31m# sepcial case character wont work\u001b[0m\u001b[1;33m\u001b[0m\u001b[1;33m\u001b[0m\u001b[0m\n\u001b[0m\u001b[0;32m      2\u001b[0m \u001b[0md\u001b[0m\u001b[1;33m\u001b[0m\u001b[1;33m\u001b[0m\u001b[0m\n",
      "\u001b[1;31mNameError\u001b[0m: name '_4' is not defined"
     ]
    }
   ],
   "source": [
    "d={_4: [\"dsfs\",\"sdsd\",\"sddsd\"]} # sepcial case character wont work\n",
    "d"
   ]
  },
  {
   "cell_type": "code",
   "execution_count": 60,
   "id": "3545268a",
   "metadata": {},
   "outputs": [
    {
     "data": {
      "text/plain": [
       "{0.4: ['dsfs', 'sdsd', 'sddsd']}"
      ]
     },
     "execution_count": 60,
     "metadata": {},
     "output_type": "execute_result"
    }
   ],
   "source": [
    "d={.4: [\"dsfs\",\"sdsd\",\"sddsd\"]} # sepcial case character wont work\n",
    "d"
   ]
  },
  {
   "cell_type": "code",
   "execution_count": 61,
   "id": "6e3d573d",
   "metadata": {},
   "outputs": [],
   "source": [
    "#Value wise anything is possible; "
   ]
  },
  {
   "cell_type": "code",
   "execution_count": 62,
   "id": "e020d24c",
   "metadata": {},
   "outputs": [
    {
     "data": {
      "text/plain": [
       "{'key1': 2, 'key2': 'strng'}"
      ]
     },
     "execution_count": 62,
     "metadata": {},
     "output_type": "execute_result"
    }
   ],
   "source": [
    "d1={\"key1\": [1,2,3,4,4], \"key2\" : \"strng\", \"key1\":2}\n",
    "d1"
   ]
  },
  {
   "cell_type": "code",
   "execution_count": 64,
   "id": "7ebfbf79",
   "metadata": {},
   "outputs": [
    {
     "data": {
      "text/plain": [
       "2"
      ]
     },
     "execution_count": 64,
     "metadata": {},
     "output_type": "execute_result"
    }
   ],
   "source": [
    "d1['key1'] #key duplicatation holds recent update not old one"
   ]
  },
  {
   "cell_type": "code",
   "execution_count": 66,
   "id": "86b5305f",
   "metadata": {},
   "outputs": [],
   "source": [
    "# key should be unique\n",
    "\n",
    "# value can be anything, no restriction , you can duolicate|"
   ]
  },
  {
   "cell_type": "code",
   "execution_count": 69,
   "id": "5ed2ba2b",
   "metadata": {},
   "outputs": [],
   "source": [
    "d = {\"Name\" : \"Nazmul\", \"mo_no\": 454545, \"email_id\" :\"nazmul87@gmail.com\", \"k1\" : [1,2,3,4,5], \"k2\" : (1,2,3,4),\"k3\": {1,2,3,4}, \"k4\":{\"k01\":5, \"k02\":5}}"
   ]
  },
  {
   "cell_type": "code",
   "execution_count": 70,
   "id": "09615a8a",
   "metadata": {},
   "outputs": [
    {
     "data": {
      "text/plain": [
       "{'Name': 'Nazmul',\n",
       " 'mo_no': 454545,\n",
       " 'email_id': 'nazmul87@gmail.com',\n",
       " 'k1': [1, 2, 3, 4, 5],\n",
       " 'k2': (1, 2, 3, 4),\n",
       " 'k3': {1, 2, 3, 4},\n",
       " 'k4': {'k01': 5, 'k02': 5}}"
      ]
     },
     "execution_count": 70,
     "metadata": {},
     "output_type": "execute_result"
    }
   ],
   "source": [
    "d"
   ]
  },
  {
   "cell_type": "code",
   "execution_count": 71,
   "id": "bc835cca",
   "metadata": {},
   "outputs": [
    {
     "data": {
      "text/plain": [
       "{1, 2, 3, 4}"
      ]
     },
     "execution_count": 71,
     "metadata": {},
     "output_type": "execute_result"
    }
   ],
   "source": [
    "d['k3']"
   ]
  },
  {
   "cell_type": "code",
   "execution_count": 72,
   "id": "315a470f",
   "metadata": {},
   "outputs": [
    {
     "data": {
      "text/plain": [
       "set"
      ]
     },
     "execution_count": 72,
     "metadata": {},
     "output_type": "execute_result"
    }
   ],
   "source": [
    "type(d['k3'])"
   ]
  },
  {
   "cell_type": "code",
   "execution_count": 73,
   "id": "f979fe5e",
   "metadata": {},
   "outputs": [
    {
     "data": {
      "text/plain": [
       "{'k01': 5, 'k02': 5}"
      ]
     },
     "execution_count": 73,
     "metadata": {},
     "output_type": "execute_result"
    }
   ],
   "source": [
    "d['k4']"
   ]
  },
  {
   "cell_type": "code",
   "execution_count": 74,
   "id": "55b61ffc",
   "metadata": {},
   "outputs": [
    {
     "data": {
      "text/plain": [
       "5"
      ]
     },
     "execution_count": 74,
     "metadata": {},
     "output_type": "execute_result"
    }
   ],
   "source": [
    "d['k4']['k01']"
   ]
  },
  {
   "cell_type": "code",
   "execution_count": 75,
   "id": "ae1489b4",
   "metadata": {},
   "outputs": [
    {
     "data": {
      "text/plain": [
       "<function dict.keys>"
      ]
     },
     "execution_count": 75,
     "metadata": {},
     "output_type": "execute_result"
    }
   ],
   "source": [
    "d.keys"
   ]
  },
  {
   "cell_type": "code",
   "execution_count": 76,
   "id": "d70ace1b",
   "metadata": {},
   "outputs": [
    {
     "data": {
      "text/plain": [
       "dict_keys(['Name', 'mo_no', 'email_id', 'k1', 'k2', 'k3', 'k4'])"
      ]
     },
     "execution_count": 76,
     "metadata": {},
     "output_type": "execute_result"
    }
   ],
   "source": [
    "d.keys()"
   ]
  },
  {
   "cell_type": "code",
   "execution_count": 77,
   "id": "3edc5d57",
   "metadata": {},
   "outputs": [
    {
     "data": {
      "text/plain": [
       "dict_values(['Nazmul', 454545, 'nazmul87@gmail.com', [1, 2, 3, 4, 5], (1, 2, 3, 4), {1, 2, 3, 4}, {'k01': 5, 'k02': 5}])"
      ]
     },
     "execution_count": 77,
     "metadata": {},
     "output_type": "execute_result"
    }
   ],
   "source": [
    "d.values()"
   ]
  },
  {
   "cell_type": "code",
   "execution_count": 79,
   "id": "176ab856",
   "metadata": {},
   "outputs": [
    {
     "data": {
      "text/plain": [
       "dict_items([('Name', 'Nazmul'), ('mo_no', 454545), ('email_id', 'nazmul87@gmail.com'), ('k1', [1, 2, 3, 4, 5]), ('k2', (1, 2, 3, 4)), ('k3', {1, 2, 3, 4}), ('k4', {'k01': 5, 'k02': 5})])"
      ]
     },
     "execution_count": 79,
     "metadata": {},
     "output_type": "execute_result"
    }
   ],
   "source": [
    "d.items() #it returns you list with key and value tuple "
   ]
  },
  {
   "cell_type": "code",
   "execution_count": 80,
   "id": "599d2687",
   "metadata": {},
   "outputs": [],
   "source": [
    "#list of the tuples of all key value pairs"
   ]
  },
  {
   "cell_type": "code",
   "execution_count": 81,
   "id": "abe3cb7b",
   "metadata": {},
   "outputs": [],
   "source": [
    " d={'key1': \"Nazh\", 'key2': [1,2,3,4]}"
   ]
  },
  {
   "cell_type": "code",
   "execution_count": 82,
   "id": "f65471f9",
   "metadata": {},
   "outputs": [
    {
     "data": {
      "text/plain": [
       "{'key1': 'Nazh', 'key2': [1, 2, 3, 4]}"
      ]
     },
     "execution_count": 82,
     "metadata": {},
     "output_type": "execute_result"
    }
   ],
   "source": [
    "d"
   ]
  },
  {
   "cell_type": "code",
   "execution_count": 83,
   "id": "56574417",
   "metadata": {},
   "outputs": [
    {
     "ename": "KeyError",
     "evalue": "'key3'",
     "output_type": "error",
     "traceback": [
      "\u001b[1;31m---------------------------------------------------------------------------\u001b[0m",
      "\u001b[1;31mKeyError\u001b[0m                                  Traceback (most recent call last)",
      "\u001b[1;32m<ipython-input-83-9b4e56484e72>\u001b[0m in \u001b[0;36m<module>\u001b[1;34m\u001b[0m\n\u001b[1;32m----> 1\u001b[1;33m \u001b[0md\u001b[0m\u001b[1;33m[\u001b[0m\u001b[1;34m'key3'\u001b[0m\u001b[1;33m]\u001b[0m\u001b[1;33m\u001b[0m\u001b[1;33m\u001b[0m\u001b[0m\n\u001b[0m",
      "\u001b[1;31mKeyError\u001b[0m: 'key3'"
     ]
    }
   ],
   "source": [
    "d['key3']"
   ]
  },
  {
   "cell_type": "code",
   "execution_count": 84,
   "id": "13fa0f46",
   "metadata": {},
   "outputs": [],
   "source": [
    "d['key3'] = \"KSKSK\""
   ]
  },
  {
   "cell_type": "code",
   "execution_count": 85,
   "id": "35f07360",
   "metadata": {},
   "outputs": [
    {
     "data": {
      "text/plain": [
       "{'key1': 'Nazh', 'key2': [1, 2, 3, 4], 'key3': 'KSKSK'}"
      ]
     },
     "execution_count": 85,
     "metadata": {},
     "output_type": "execute_result"
    }
   ],
   "source": [
    "d"
   ]
  },
  {
   "cell_type": "code",
   "execution_count": 86,
   "id": "941998ef",
   "metadata": {},
   "outputs": [],
   "source": [
    "d[4] =[4.6,7,8,]"
   ]
  },
  {
   "cell_type": "code",
   "execution_count": 87,
   "id": "6ba5f24a",
   "metadata": {},
   "outputs": [
    {
     "data": {
      "text/plain": [
       "{'key1': 'Nazh', 'key2': [1, 2, 3, 4], 'key3': 'KSKSK', 4: [4.6, 7, 8]}"
      ]
     },
     "execution_count": 87,
     "metadata": {},
     "output_type": "execute_result"
    }
   ],
   "source": [
    "d"
   ]
  },
  {
   "cell_type": "code",
   "execution_count": 88,
   "id": "534c61cb",
   "metadata": {},
   "outputs": [
    {
     "data": {
      "text/plain": [
       "'Nazh'"
      ]
     },
     "execution_count": 88,
     "metadata": {},
     "output_type": "execute_result"
    }
   ],
   "source": [
    "d['key1']"
   ]
  },
  {
   "cell_type": "code",
   "execution_count": 89,
   "id": "a6ccc067",
   "metadata": {},
   "outputs": [],
   "source": [
    "d['key1'] =\"fgfgfgfg\""
   ]
  },
  {
   "cell_type": "code",
   "execution_count": 90,
   "id": "11853b5e",
   "metadata": {},
   "outputs": [
    {
     "data": {
      "text/plain": [
       "{'key1': 'fgfgfgfg', 'key2': [1, 2, 3, 4], 'key3': 'KSKSK', 4: [4.6, 7, 8]}"
      ]
     },
     "execution_count": 90,
     "metadata": {},
     "output_type": "execute_result"
    }
   ],
   "source": [
    "d"
   ]
  },
  {
   "cell_type": "code",
   "execution_count": 91,
   "id": "e6b2df19",
   "metadata": {},
   "outputs": [],
   "source": [
    "# if key is already available it will update\n",
    "#if key is not available, it will create"
   ]
  },
  {
   "cell_type": "code",
   "execution_count": 92,
   "id": "39cd1093",
   "metadata": {},
   "outputs": [],
   "source": [
    "#delete key"
   ]
  },
  {
   "cell_type": "code",
   "execution_count": 93,
   "id": "30f26da7",
   "metadata": {},
   "outputs": [
    {
     "data": {
      "text/plain": [
       "{'key1': 'fgfgfgfg', 'key2': [1, 2, 3, 4], 'key3': 'KSKSK', 4: [4.6, 7, 8]}"
      ]
     },
     "execution_count": 93,
     "metadata": {},
     "output_type": "execute_result"
    }
   ],
   "source": [
    "d"
   ]
  },
  {
   "cell_type": "code",
   "execution_count": 98,
   "id": "a8f9b758",
   "metadata": {},
   "outputs": [],
   "source": [
    "d= {'key1': 'fgfgfgfg', 'key2': [1, 2, 3, 4], 'key3': 'KSKSK', 4: [4.6, 7, 8]}"
   ]
  },
  {
   "cell_type": "code",
   "execution_count": 99,
   "id": "208d7383",
   "metadata": {},
   "outputs": [],
   "source": [
    "del d['key1'] #you can delete key"
   ]
  },
  {
   "cell_type": "code",
   "execution_count": 97,
   "id": "dc0dcb6a",
   "metadata": {},
   "outputs": [
    {
     "data": {
      "text/plain": [
       "{'key2': [1, 2, 3, 4], 'key3': 'KSKSK', 4: [4.6, 7, 8]}"
      ]
     },
     "execution_count": 97,
     "metadata": {},
     "output_type": "execute_result"
    }
   ],
   "source": [
    "d"
   ]
  },
  {
   "cell_type": "code",
   "execution_count": 100,
   "id": "1351dac4",
   "metadata": {},
   "outputs": [],
   "source": [
    "del d"
   ]
  },
  {
   "cell_type": "code",
   "execution_count": 101,
   "id": "143378ad",
   "metadata": {},
   "outputs": [
    {
     "ename": "NameError",
     "evalue": "name 'd' is not defined",
     "output_type": "error",
     "traceback": [
      "\u001b[1;31m---------------------------------------------------------------------------\u001b[0m",
      "\u001b[1;31mNameError\u001b[0m                                 Traceback (most recent call last)",
      "\u001b[1;32m<ipython-input-101-e983f374794d>\u001b[0m in \u001b[0;36m<module>\u001b[1;34m\u001b[0m\n\u001b[1;32m----> 1\u001b[1;33m \u001b[0md\u001b[0m\u001b[1;33m\u001b[0m\u001b[1;33m\u001b[0m\u001b[0m\n\u001b[0m",
      "\u001b[1;31mNameError\u001b[0m: name 'd' is not defined"
     ]
    }
   ],
   "source": [
    "d"
   ]
  },
  {
   "cell_type": "code",
   "execution_count": 102,
   "id": "b5edf06f",
   "metadata": {},
   "outputs": [],
   "source": [
    "d1 = {\"key1\" : \"Nazmul\", \"key2\" : [4,4,4,4,4,]}"
   ]
  },
  {
   "cell_type": "code",
   "execution_count": 103,
   "id": "19b542a1",
   "metadata": {},
   "outputs": [
    {
     "data": {
      "text/plain": [
       "{'key1': 'Nazmul', 'key2': [4, 4, 4, 4, 4]}"
      ]
     },
     "execution_count": 103,
     "metadata": {},
     "output_type": "execute_result"
    }
   ],
   "source": [
    "d1"
   ]
  },
  {
   "cell_type": "code",
   "execution_count": 104,
   "id": "a7fa6896",
   "metadata": {},
   "outputs": [
    {
     "ename": "TypeError",
     "evalue": "unhashable type: 'list'",
     "output_type": "error",
     "traceback": [
      "\u001b[1;31m---------------------------------------------------------------------------\u001b[0m",
      "\u001b[1;31mTypeError\u001b[0m                                 Traceback (most recent call last)",
      "\u001b[1;32m<ipython-input-104-3788997e41f3>\u001b[0m in \u001b[0;36m<module>\u001b[1;34m\u001b[0m\n\u001b[1;32m----> 1\u001b[1;33m \u001b[0md1\u001b[0m\u001b[1;33m[\u001b[0m\u001b[1;33m[\u001b[0m\u001b[1;36m1\u001b[0m\u001b[1;33m,\u001b[0m\u001b[1;36m2\u001b[0m\u001b[1;33m,\u001b[0m\u001b[1;36m3\u001b[0m\u001b[1;33m,\u001b[0m\u001b[1;36m4\u001b[0m\u001b[1;33m]\u001b[0m\u001b[1;33m]\u001b[0m\u001b[1;33m=\u001b[0m\u001b[1;34m\"FGFg\"\u001b[0m \u001b[1;31m#list as a key dont work\u001b[0m\u001b[1;33m\u001b[0m\u001b[1;33m\u001b[0m\u001b[0m\n\u001b[0m",
      "\u001b[1;31mTypeError\u001b[0m: unhashable type: 'list'"
     ]
    }
   ],
   "source": [
    "d1[[1,2,3,4]]=\"FGFg\" #list as a key dont work"
   ]
  },
  {
   "cell_type": "code",
   "execution_count": 105,
   "id": "398e9cee",
   "metadata": {},
   "outputs": [],
   "source": [
    "d1[(1,2,3,4)]=\"FGFg\""
   ]
  },
  {
   "cell_type": "code",
   "execution_count": 107,
   "id": "c2560962",
   "metadata": {},
   "outputs": [
    {
     "data": {
      "text/plain": [
       "{'key1': 'Nazmul', 'key2': [4, 4, 4, 4, 4], (1, 2, 3, 4): 'FGFg'}"
      ]
     },
     "execution_count": 107,
     "metadata": {},
     "output_type": "execute_result"
    }
   ],
   "source": [
    "d1 # tuple works as key"
   ]
  },
  {
   "cell_type": "code",
   "execution_count": 108,
   "id": "36179204",
   "metadata": {},
   "outputs": [],
   "source": [
    "d1.get(\"fsd\") # no value give blank"
   ]
  },
  {
   "cell_type": "code",
   "execution_count": 111,
   "id": "497375f7",
   "metadata": {},
   "outputs": [
    {
     "data": {
      "text/plain": [
       "'Nazmul'"
      ]
     },
     "execution_count": 111,
     "metadata": {},
     "output_type": "execute_result"
    }
   ],
   "source": [
    "d1.get('key1') # since ket present hence gives result"
   ]
  },
  {
   "cell_type": "code",
   "execution_count": 112,
   "id": "2505033b",
   "metadata": {},
   "outputs": [
    {
     "data": {
      "text/plain": [
       "{'key1': 'Nazmul', 'key2': [4, 4, 4, 4, 4], (1, 2, 3, 4): 'FGFg'}"
      ]
     },
     "execution_count": 112,
     "metadata": {},
     "output_type": "execute_result"
    }
   ],
   "source": [
    "d1"
   ]
  },
  {
   "cell_type": "code",
   "execution_count": 113,
   "id": "9a1249d5",
   "metadata": {},
   "outputs": [],
   "source": [
    "d1={'key1': 'Nazmul', 'key2':'FGFg'}"
   ]
  },
  {
   "cell_type": "code",
   "execution_count": 114,
   "id": "7c95d1e4",
   "metadata": {},
   "outputs": [
    {
     "data": {
      "text/plain": [
       "{'key1': 'Nazmul', 'key2': 'FGFg'}"
      ]
     },
     "execution_count": 114,
     "metadata": {},
     "output_type": "execute_result"
    }
   ],
   "source": [
    "d1"
   ]
  },
  {
   "cell_type": "code",
   "execution_count": 115,
   "id": "12aacf8d",
   "metadata": {},
   "outputs": [],
   "source": [
    "d2={\"key3\": 4.5,\"key\" :[1,2,3,4]}"
   ]
  },
  {
   "cell_type": "code",
   "execution_count": 116,
   "id": "5a5f9a4e",
   "metadata": {},
   "outputs": [
    {
     "data": {
      "text/plain": [
       "{'key3': 4.5, 'key': [1, 2, 3, 4]}"
      ]
     },
     "execution_count": 116,
     "metadata": {},
     "output_type": "execute_result"
    }
   ],
   "source": [
    "d2"
   ]
  },
  {
   "cell_type": "code",
   "execution_count": 117,
   "id": "f778c023",
   "metadata": {},
   "outputs": [
    {
     "data": {
      "text/plain": [
       "{'key1': 'Nazmul', 'key2': 'FGFg'}"
      ]
     },
     "execution_count": 117,
     "metadata": {},
     "output_type": "execute_result"
    }
   ],
   "source": [
    "d1"
   ]
  },
  {
   "cell_type": "code",
   "execution_count": 120,
   "id": "17ec8594",
   "metadata": {},
   "outputs": [],
   "source": [
    "d1.update(d2) #it hsd updated d1 with d2"
   ]
  },
  {
   "cell_type": "code",
   "execution_count": 121,
   "id": "895f08cd",
   "metadata": {},
   "outputs": [
    {
     "data": {
      "text/plain": [
       "{'key1': 'Nazmul', 'key2': 'FGFg', 'key3': 4.5, 'key': [1, 2, 3, 4]}"
      ]
     },
     "execution_count": 121,
     "metadata": {},
     "output_type": "execute_result"
    }
   ],
   "source": [
    "d1"
   ]
  },
  {
   "cell_type": "code",
   "execution_count": 122,
   "id": "503e91c5",
   "metadata": {},
   "outputs": [
    {
     "data": {
      "text/plain": [
       "{'key3': 4.5, 'key': [1, 2, 3, 4]}"
      ]
     },
     "execution_count": 122,
     "metadata": {},
     "output_type": "execute_result"
    }
   ],
   "source": [
    "d2"
   ]
  },
  {
   "cell_type": "code",
   "execution_count": 123,
   "id": "d10d08ec",
   "metadata": {},
   "outputs": [
    {
     "ename": "TypeError",
     "evalue": "unsupported operand type(s) for +: 'dict' and 'dict'",
     "output_type": "error",
     "traceback": [
      "\u001b[1;31m---------------------------------------------------------------------------\u001b[0m",
      "\u001b[1;31mTypeError\u001b[0m                                 Traceback (most recent call last)",
      "\u001b[1;32m<ipython-input-123-686adf62153a>\u001b[0m in \u001b[0;36m<module>\u001b[1;34m\u001b[0m\n\u001b[1;32m----> 1\u001b[1;33m \u001b[0md1\u001b[0m\u001b[1;33m+\u001b[0m\u001b[0md2\u001b[0m\u001b[1;33m\u001b[0m\u001b[1;33m\u001b[0m\u001b[0m\n\u001b[0m",
      "\u001b[1;31mTypeError\u001b[0m: unsupported operand type(s) for +: 'dict' and 'dict'"
     ]
    }
   ],
   "source": [
    "d1+d2"
   ]
  },
  {
   "cell_type": "code",
   "execution_count": 124,
   "id": "3c7ebc52",
   "metadata": {},
   "outputs": [
    {
     "data": {
      "text/plain": [
       "{'key1': 'Nazmul', 'key2': 'FGFg', 'key3': 4.5, 'key': [1, 2, 3, 4]}"
      ]
     },
     "execution_count": 124,
     "metadata": {},
     "output_type": "execute_result"
    }
   ],
   "source": [
    "d1"
   ]
  },
  {
   "cell_type": "code",
   "execution_count": 125,
   "id": "9b1ebdc1",
   "metadata": {},
   "outputs": [
    {
     "data": {
      "text/plain": [
       "{'key3': 4.5, 'key': [1, 2, 3, 4]}"
      ]
     },
     "execution_count": 125,
     "metadata": {},
     "output_type": "execute_result"
    }
   ],
   "source": [
    "d2"
   ]
  },
  {
   "cell_type": "code",
   "execution_count": 126,
   "id": "5e18555b",
   "metadata": {},
   "outputs": [
    {
     "ename": "KeyError",
     "evalue": "'dfdfdf'",
     "output_type": "error",
     "traceback": [
      "\u001b[1;31m---------------------------------------------------------------------------\u001b[0m",
      "\u001b[1;31mKeyError\u001b[0m                                  Traceback (most recent call last)",
      "\u001b[1;32m<ipython-input-126-c6e47f5eca7f>\u001b[0m in \u001b[0;36m<module>\u001b[1;34m\u001b[0m\n\u001b[1;32m----> 1\u001b[1;33m \u001b[0md2\u001b[0m\u001b[1;33m[\u001b[0m\u001b[1;34m'dfdfdf'\u001b[0m\u001b[1;33m]\u001b[0m\u001b[1;33m\u001b[0m\u001b[1;33m\u001b[0m\u001b[0m\n\u001b[0m",
      "\u001b[1;31mKeyError\u001b[0m: 'dfdfdf'"
     ]
    }
   ],
   "source": [
    "d2['dfdfdf']"
   ]
  },
  {
   "cell_type": "code",
   "execution_count": 127,
   "id": "560a5d9e",
   "metadata": {},
   "outputs": [
    {
     "data": {
      "text/plain": [
       "4.5"
      ]
     },
     "execution_count": 127,
     "metadata": {},
     "output_type": "execute_result"
    }
   ],
   "source": [
    "d2.get('key3')"
   ]
  },
  {
   "cell_type": "code",
   "execution_count": 129,
   "id": "7209df08",
   "metadata": {},
   "outputs": [],
   "source": [
    "d2.get('dfdfdf') # get gives no error"
   ]
  },
  {
   "cell_type": "code",
   "execution_count": 134,
   "id": "d466778c",
   "metadata": {},
   "outputs": [
    {
     "data": {
      "text/plain": [
       "{'key3': 4.5, 'key': [1, 2, 3, 4]}"
      ]
     },
     "execution_count": 134,
     "metadata": {},
     "output_type": "execute_result"
    }
   ],
   "source": [
    "d2"
   ]
  },
  {
   "cell_type": "code",
   "execution_count": 138,
   "id": "c8a5cb7a",
   "metadata": {},
   "outputs": [],
   "source": [
    "p={}\n",
    "key =('name', 'mo_no')\n",
    "value=\"Nazmul\""
   ]
  },
  {
   "cell_type": "code",
   "execution_count": 139,
   "id": "729287ee",
   "metadata": {},
   "outputs": [],
   "source": [
    "d= p.fromkeys(key,value)"
   ]
  },
  {
   "cell_type": "code",
   "execution_count": 140,
   "id": "25883c5b",
   "metadata": {},
   "outputs": [
    {
     "data": {
      "text/plain": [
       "{'name': 'Nazmul', 'mo_no': 'Nazmul'}"
      ]
     },
     "execution_count": 140,
     "metadata": {},
     "output_type": "execute_result"
    }
   ],
   "source": [
    "d"
   ]
  },
  {
   "cell_type": "code",
   "execution_count": null,
   "id": "e8b78664",
   "metadata": {},
   "outputs": [],
   "source": []
  }
 ],
 "metadata": {
  "kernelspec": {
   "display_name": "Python 3",
   "language": "python",
   "name": "python3"
  },
  "language_info": {
   "codemirror_mode": {
    "name": "ipython",
    "version": 3
   },
   "file_extension": ".py",
   "mimetype": "text/x-python",
   "name": "python",
   "nbconvert_exporter": "python",
   "pygments_lexer": "ipython3",
   "version": "3.8.8"
  }
 },
 "nbformat": 4,
 "nbformat_minor": 5
}
